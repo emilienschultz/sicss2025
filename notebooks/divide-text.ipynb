{
 "cells": [
  {
   "cell_type": "markdown",
   "metadata": {},
   "source": [
    "# Segment data\n",
    "\n",
    "This notebook shows some methods to segment text data"
   ]
  },
  {
   "cell_type": "code",
   "execution_count": 19,
   "metadata": {},
   "outputs": [],
   "source": [
    "#!pip install pandas pyarrow"
   ]
  },
  {
   "cell_type": "markdown",
   "metadata": {},
   "source": [
    "## Load the data\n",
    "\n",
    "Global News Dataset : https://huggingface.co/datasets/NickyNicky/global-news-dataset\n",
    "\n",
    "Download the dataset"
   ]
  },
  {
   "cell_type": "code",
   "execution_count": 8,
   "metadata": {},
   "outputs": [
    {
     "name": "stderr",
     "output_type": "stream",
     "text": [
      "/opt/anaconda3/envs/sicss/lib/python3.12/pty.py:95: DeprecationWarning: This process (pid=1597) is multi-threaded, use of forkpty() may lead to deadlocks in the child.\n",
      "  pid, fd = os.forkpty()\n"
     ]
    },
    {
     "name": "stdout",
     "output_type": "stream",
     "text": [
      "--2025-06-26 22:51:55--  https://huggingface.co/datasets/NickyNicky/global-news-dataset/resolve/main/data/train-00000-of-00001.parquet\n",
      "Résolution de huggingface.co (huggingface.co)… 2600:9000:244f:ce00:17:b174:6d00:93a1, 2600:9000:244f:fe00:17:b174:6d00:93a1, 2600:9000:244f:f400:17:b174:6d00:93a1, ...\n",
      "Connexion à huggingface.co (huggingface.co)|2600:9000:244f:ce00:17:b174:6d00:93a1|:443… connecté.\n",
      "requête HTTP transmise, en attente de la réponse… 302 Found\n",
      "Emplacement : https://cdn-lfs-us-1.hf.co/repos/fc/b9/fcb9b99c94f49325b2c47cfd2a3f4f1615b3b61a4bee0d152bbdf91676cc212f/148002d1f68e5fbf7c393687410b997d9f3fcd1f4d5b43ad28abcf4ff8f3abf0?response-content-disposition=inline%3B+filename*%3DUTF-8%27%27train-00000-of-00001.parquet%3B+filename%3D%22train-00000-of-00001.parquet%22%3B&Expires=1750974715&Policy=eyJTdGF0ZW1lbnQiOlt7IkNvbmRpdGlvbiI6eyJEYXRlTGVzc1RoYW4iOnsiQVdTOkVwb2NoVGltZSI6MTc1MDk3NDcxNX19LCJSZXNvdXJjZSI6Imh0dHBzOi8vY2RuLWxmcy11cy0xLmhmLmNvL3JlcG9zL2ZjL2I5L2ZjYjliOTljOTRmNDkzMjViMmM0N2NmZDJhM2Y0ZjE2MTViM2I2MWE0YmVlMGQxNTJiYmRmOTE2NzZjYzIxMmYvMTQ4MDAyZDFmNjhlNWZiZjdjMzkzNjg3NDEwYjk5N2Q5ZjNmY2QxZjRkNWI0M2FkMjhhYmNmNGZmOGYzYWJmMD9yZXNwb25zZS1jb250ZW50LWRpc3Bvc2l0aW9uPSoifV19&Signature=XK5lah-IRa%7EMhUMQpUgpxyT6yDnSrtCI9J5G3oGz-ncdBNs8fijSlPemVcwyI34zGm4-WgN0FaLAbQhXUXv2zZfdMW7Sa36qUUByuiH07ql4HNPzuhjLYsx7RyaCRgqNQ%7EORcdRnpWx6FN5XV9-r%7EFHFv4ygOjsbcV6NzKQRk19aEDtzNy4nBWpybWvExQSS2T4EFT%7Ehxi0eBOBKS83SfnI68yJYXlxMpr0RVVoBqwxArBvDkI2Z22FS2uBFdX8wFh0Z6BDaTHzzqWOLO7R0JYo3XQXaZ%7EZVxWOGBz6i3IyixBEO1Gqhq3fVl7H-U3v5G1Pdk98KZVK86qL1Is7P%7EQ__&Key-Pair-Id=K24J24Z295AEI9 [suivant]\n",
      "--2025-06-26 22:51:55--  https://cdn-lfs-us-1.hf.co/repos/fc/b9/fcb9b99c94f49325b2c47cfd2a3f4f1615b3b61a4bee0d152bbdf91676cc212f/148002d1f68e5fbf7c393687410b997d9f3fcd1f4d5b43ad28abcf4ff8f3abf0?response-content-disposition=inline%3B+filename*%3DUTF-8%27%27train-00000-of-00001.parquet%3B+filename%3D%22train-00000-of-00001.parquet%22%3B&Expires=1750974715&Policy=eyJTdGF0ZW1lbnQiOlt7IkNvbmRpdGlvbiI6eyJEYXRlTGVzc1RoYW4iOnsiQVdTOkVwb2NoVGltZSI6MTc1MDk3NDcxNX19LCJSZXNvdXJjZSI6Imh0dHBzOi8vY2RuLWxmcy11cy0xLmhmLmNvL3JlcG9zL2ZjL2I5L2ZjYjliOTljOTRmNDkzMjViMmM0N2NmZDJhM2Y0ZjE2MTViM2I2MWE0YmVlMGQxNTJiYmRmOTE2NzZjYzIxMmYvMTQ4MDAyZDFmNjhlNWZiZjdjMzkzNjg3NDEwYjk5N2Q5ZjNmY2QxZjRkNWI0M2FkMjhhYmNmNGZmOGYzYWJmMD9yZXNwb25zZS1jb250ZW50LWRpc3Bvc2l0aW9uPSoifV19&Signature=XK5lah-IRa%7EMhUMQpUgpxyT6yDnSrtCI9J5G3oGz-ncdBNs8fijSlPemVcwyI34zGm4-WgN0FaLAbQhXUXv2zZfdMW7Sa36qUUByuiH07ql4HNPzuhjLYsx7RyaCRgqNQ%7EORcdRnpWx6FN5XV9-r%7EFHFv4ygOjsbcV6NzKQRk19aEDtzNy4nBWpybWvExQSS2T4EFT%7Ehxi0eBOBKS83SfnI68yJYXlxMpr0RVVoBqwxArBvDkI2Z22FS2uBFdX8wFh0Z6BDaTHzzqWOLO7R0JYo3XQXaZ%7EZVxWOGBz6i3IyixBEO1Gqhq3fVl7H-U3v5G1Pdk98KZVK86qL1Is7P%7EQ__&Key-Pair-Id=K24J24Z295AEI9\n",
      "Résolution de cdn-lfs-us-1.hf.co (cdn-lfs-us-1.hf.co)… 18.164.52.87, 18.164.52.5, 18.164.52.44, ...\n",
      "Connexion à cdn-lfs-us-1.hf.co (cdn-lfs-us-1.hf.co)|18.164.52.87|:443… connecté.\n",
      "requête HTTP transmise, en attente de la réponse… 200 OK\n",
      "Taille : 186302974 (178M) [binary/octet-stream]\n",
      "Sauvegarde en : « data/train-00000-of-00001.parquet »\n",
      "\n",
      "data/train-00000-of 100%[===================>] 177,67M  12,0MB/s    ds 15s     \n",
      "\n",
      "2025-06-26 22:52:11 (11,6 MB/s) — « data/train-00000-of-00001.parquet » sauvegardé [186302974/186302974]\n",
      "\n"
     ]
    }
   ],
   "source": [
    "!mkdir -p data\n",
    "!wget -O data/train-00000-of-00001.parquet https://huggingface.co/datasets/NickyNicky/global-news-dataset/resolve/main/data/train-00000-of-00001.parquet"
   ]
  },
  {
   "cell_type": "code",
   "execution_count": 12,
   "metadata": {},
   "outputs": [],
   "source": [
    "import pandas as pd"
   ]
  },
  {
   "cell_type": "code",
   "execution_count": null,
   "metadata": {},
   "outputs": [
    {
     "data": {
      "text/html": [
       "<div>\n",
       "<style scoped>\n",
       "    .dataframe tbody tr th:only-of-type {\n",
       "        vertical-align: middle;\n",
       "    }\n",
       "\n",
       "    .dataframe tbody tr th {\n",
       "        vertical-align: top;\n",
       "    }\n",
       "\n",
       "    .dataframe thead th {\n",
       "        text-align: right;\n",
       "    }\n",
       "</style>\n",
       "<table border=\"1\" class=\"dataframe\">\n",
       "  <thead>\n",
       "    <tr style=\"text-align: right;\">\n",
       "      <th></th>\n",
       "      <th>article_id</th>\n",
       "      <th>source_id</th>\n",
       "      <th>source_name</th>\n",
       "      <th>author</th>\n",
       "      <th>title</th>\n",
       "      <th>description</th>\n",
       "      <th>url</th>\n",
       "      <th>url_to_image</th>\n",
       "      <th>published_at</th>\n",
       "      <th>content</th>\n",
       "      <th>category</th>\n",
       "      <th>full_content</th>\n",
       "    </tr>\n",
       "  </thead>\n",
       "  <tbody>\n",
       "    <tr>\n",
       "      <th>0</th>\n",
       "      <td>89541</td>\n",
       "      <td>None</td>\n",
       "      <td>International Business Times</td>\n",
       "      <td>Paavan MATHEMA</td>\n",
       "      <td>UN Chief Urges World To 'Stop The Madness' Of ...</td>\n",
       "      <td>UN Secretary-General Antonio Guterres urged th...</td>\n",
       "      <td>https://www.ibtimes.com/un-chief-urges-world-s...</td>\n",
       "      <td>https://d.ibtimes.com/en/full/4496078/nepals-g...</td>\n",
       "      <td>2023-10-30 10:12:35.000000</td>\n",
       "      <td>UN Secretary-General Antonio Guterres urged th...</td>\n",
       "      <td>Nepal</td>\n",
       "      <td>UN Secretary-General Antonio Guterres urged th...</td>\n",
       "    </tr>\n",
       "    <tr>\n",
       "      <th>1</th>\n",
       "      <td>89542</td>\n",
       "      <td>None</td>\n",
       "      <td>Prtimes.jp</td>\n",
       "      <td>None</td>\n",
       "      <td>RANDEBOOよりワンランク上の大人っぽさが漂うニットとベストが新登場。</td>\n",
       "      <td>[株式会社Ainer]\\nRANDEBOO（ランデブー）では2023年7月18日(火)より公...</td>\n",
       "      <td>https://prtimes.jp/main/html/rd/p/000000147.00...</td>\n",
       "      <td>https://prtimes.jp/i/32220/147/ogp/d32220-147-...</td>\n",
       "      <td>2023-10-06 04:40:02.000000</td>\n",
       "      <td>RANDEBOO2023718()WEB2023 Autumn Winter \\n\"Nepa...</td>\n",
       "      <td>Nepal</td>\n",
       "      <td>None</td>\n",
       "    </tr>\n",
       "    <tr>\n",
       "      <th>2</th>\n",
       "      <td>89543</td>\n",
       "      <td>None</td>\n",
       "      <td>VOA News</td>\n",
       "      <td>webdesk@voanews.com (Agence France-Presse)</td>\n",
       "      <td>UN Chief Urges World to 'Stop the Madness' of ...</td>\n",
       "      <td>UN Secretary-General Antonio Guterres urged th...</td>\n",
       "      <td>https://www.voanews.com/a/un-chief-urges-world...</td>\n",
       "      <td>https://gdb.voanews.com/01000000-0a00-0242-60f...</td>\n",
       "      <td>2023-10-30 10:53:30.000000</td>\n",
       "      <td>Kathmandu, Nepal  UN Secretary-General Antonio...</td>\n",
       "      <td>Nepal</td>\n",
       "      <td>None</td>\n",
       "    </tr>\n",
       "  </tbody>\n",
       "</table>\n",
       "</div>"
      ],
      "text/plain": [
       "   article_id source_id                   source_name  \\\n",
       "0       89541      None  International Business Times   \n",
       "1       89542      None                    Prtimes.jp   \n",
       "2       89543      None                      VOA News   \n",
       "\n",
       "                                       author  \\\n",
       "0                              Paavan MATHEMA   \n",
       "1                                        None   \n",
       "2  webdesk@voanews.com (Agence France-Presse)   \n",
       "\n",
       "                                               title  \\\n",
       "0  UN Chief Urges World To 'Stop The Madness' Of ...   \n",
       "1              RANDEBOOよりワンランク上の大人っぽさが漂うニットとベストが新登場。   \n",
       "2  UN Chief Urges World to 'Stop the Madness' of ...   \n",
       "\n",
       "                                         description  \\\n",
       "0  UN Secretary-General Antonio Guterres urged th...   \n",
       "1  [株式会社Ainer]\\nRANDEBOO（ランデブー）では2023年7月18日(火)より公...   \n",
       "2  UN Secretary-General Antonio Guterres urged th...   \n",
       "\n",
       "                                                 url  \\\n",
       "0  https://www.ibtimes.com/un-chief-urges-world-s...   \n",
       "1  https://prtimes.jp/main/html/rd/p/000000147.00...   \n",
       "2  https://www.voanews.com/a/un-chief-urges-world...   \n",
       "\n",
       "                                        url_to_image  \\\n",
       "0  https://d.ibtimes.com/en/full/4496078/nepals-g...   \n",
       "1  https://prtimes.jp/i/32220/147/ogp/d32220-147-...   \n",
       "2  https://gdb.voanews.com/01000000-0a00-0242-60f...   \n",
       "\n",
       "                 published_at  \\\n",
       "0  2023-10-30 10:12:35.000000   \n",
       "1  2023-10-06 04:40:02.000000   \n",
       "2  2023-10-30 10:53:30.000000   \n",
       "\n",
       "                                             content category  \\\n",
       "0  UN Secretary-General Antonio Guterres urged th...    Nepal   \n",
       "1  RANDEBOO2023718()WEB2023 Autumn Winter \\n\"Nepa...    Nepal   \n",
       "2  Kathmandu, Nepal  UN Secretary-General Antonio...    Nepal   \n",
       "\n",
       "                                        full_content  \n",
       "0  UN Secretary-General Antonio Guterres urged th...  \n",
       "1                                               None  \n",
       "2                                               None  "
      ]
     },
     "execution_count": 13,
     "metadata": {},
     "output_type": "execute_result"
    }
   ],
   "source": [
    "df_raw = pd.read_parquet(\"data/train-00000-of-00001.parquet\"\n",
    "df_raw.head(3)"
   ]
  },
  {
   "cell_type": "code",
   "execution_count": 14,
   "metadata": {},
   "outputs": [
    {
     "name": "stdout",
     "output_type": "stream",
     "text": [
      "(105375, 12)\n"
     ]
    }
   ],
   "source": [
    "print(df_raw.shape)"
   ]
  },
  {
   "cell_type": "markdown",
   "metadata": {},
   "source": [
    "Management : remove empty rows"
   ]
  },
  {
   "cell_type": "code",
   "execution_count": 15,
   "metadata": {},
   "outputs": [
    {
     "data": {
      "text/plain": [
       "(58432, 12)"
      ]
     },
     "execution_count": 15,
     "metadata": {},
     "output_type": "execute_result"
    }
   ],
   "source": [
    "df = df_raw[df_raw[\"full_content\"].notna()]\n",
    "df.shape"
   ]
  },
  {
   "cell_type": "markdown",
   "metadata": {},
   "source": [
    "## Let's say we will use CamemBERT\n",
    "\n",
    "Context windows : 512"
   ]
  },
  {
   "cell_type": "markdown",
   "metadata": {},
   "source": [
    "Estimate the tokens"
   ]
  },
  {
   "cell_type": "code",
   "execution_count": 17,
   "metadata": {},
   "outputs": [
    {
     "name": "stdout",
     "output_type": "stream",
     "text": [
      "Number of tokens: 856\n"
     ]
    }
   ],
   "source": [
    "from transformers import AutoTokenizer\n",
    "\n",
    "tokenizer = AutoTokenizer.from_pretrained(\"camembert-base\")\n",
    "\n",
    "text = df[\"full_content\"].iloc[0]\n",
    "\n",
    "tokens = tokenizer.tokenize(text)\n",
    "token_count = len(tokens)\n",
    "print(f\"Number of tokens: {token_count}\")"
   ]
  },
  {
   "cell_type": "code",
   "execution_count": 18,
   "metadata": {},
   "outputs": [
    {
     "data": {
      "text/plain": [
       "count     1000.000000\n",
       "mean      1742.043000\n",
       "std       2699.420828\n",
       "min         12.000000\n",
       "25%        817.000000\n",
       "50%       1292.000000\n",
       "75%       1809.750000\n",
       "max      32045.000000\n",
       "Name: full_content, dtype: float64"
      ]
     },
     "execution_count": 18,
     "metadata": {},
     "output_type": "execute_result"
    }
   ],
   "source": [
    "df[\"full_content\"].sample(1000).apply(lambda x : len(tokenizer.tokenize(x))).describe()"
   ]
  },
  {
   "cell_type": "markdown",
   "metadata": {},
   "source": [
    "We will need to divide"
   ]
  },
  {
   "cell_type": "markdown",
   "metadata": {},
   "source": [
    "### Divide by sentence"
   ]
  },
  {
   "cell_type": "markdown",
   "metadata": {},
   "source": [
    "### Brut force method\n",
    "\n",
    "with a rule of thumb for instance"
   ]
  },
  {
   "cell_type": "code",
   "execution_count": 60,
   "metadata": {},
   "outputs": [],
   "source": [
    "def chuck_text_context_window(text, max_length_token=512, letter_per_token=4):\n",
    "    \"\"\"\n",
    "    Cut the text into chunks of max_length.\n",
    "    \"\"\"\n",
    "    length = max_length_token * letter_per_token\n",
    "    \n",
    "    return [text[i:i + length] for i in range(0, len(text), length)]\n"
   ]
  },
  {
   "cell_type": "markdown",
   "metadata": {},
   "source": [
    "And explode with the id of the article"
   ]
  },
  {
   "cell_type": "code",
   "execution_count": 65,
   "metadata": {},
   "outputs": [
    {
     "data": {
      "text/html": [
       "<div>\n",
       "<style scoped>\n",
       "    .dataframe tbody tr th:only-of-type {\n",
       "        vertical-align: middle;\n",
       "    }\n",
       "\n",
       "    .dataframe tbody tr th {\n",
       "        vertical-align: top;\n",
       "    }\n",
       "\n",
       "    .dataframe thead th {\n",
       "        text-align: right;\n",
       "    }\n",
       "</style>\n",
       "<table border=\"1\" class=\"dataframe\">\n",
       "  <thead>\n",
       "    <tr style=\"text-align: right;\">\n",
       "      <th></th>\n",
       "      <th>article_id</th>\n",
       "      <th>chunk_cw</th>\n",
       "    </tr>\n",
       "  </thead>\n",
       "  <tbody>\n",
       "    <tr>\n",
       "      <th>88121</th>\n",
       "      <td>452970</td>\n",
       "      <td>BJ’s Wholesale Club (NYSE:BJ–Get Free Report) ...</td>\n",
       "    </tr>\n",
       "    <tr>\n",
       "      <th>88121</th>\n",
       "      <td>452970</td>\n",
       "      <td>and six have given a buy rating to the company...</td>\n",
       "    </tr>\n",
       "    <tr>\n",
       "      <th>88121</th>\n",
       "      <td>452970</td>\n",
       "      <td>t $46,000. Point72 Hong Kong Ltd bought a new ...</td>\n",
       "    </tr>\n",
       "    <tr>\n",
       "      <th>69582</th>\n",
       "      <td>227784</td>\n",
       "      <td>Shares of NIPPON STL &amp; SU/S (OTCMKTS:NSSMY–Get...</td>\n",
       "    </tr>\n",
       "    <tr>\n",
       "      <th>58047</th>\n",
       "      <td>134197</td>\n",
       "      <td>Chico’s FAS, Inc. (NYSE:CHS–Get Free Report)’s...</td>\n",
       "    </tr>\n",
       "    <tr>\n",
       "      <th>58047</th>\n",
       "      <td>134197</td>\n",
       "      <td>osition in shares of Chico’s FAS by 167.9% in ...</td>\n",
       "    </tr>\n",
       "    <tr>\n",
       "      <th>15393</th>\n",
       "      <td>5337</td>\n",
       "      <td>Statement by UK Political Coordinator Fergus E...</td>\n",
       "    </tr>\n",
       "    <tr>\n",
       "      <th>15393</th>\n",
       "      <td>5337</td>\n",
       "      <td>iolence, is the only way to achieve lasting pe...</td>\n",
       "    </tr>\n",
       "    <tr>\n",
       "      <th>94841</th>\n",
       "      <td>528246</td>\n",
       "      <td>SANTIAGO, Chile, Nov.  20, 2023  (GLOBE NEWSWI...</td>\n",
       "    </tr>\n",
       "    <tr>\n",
       "      <th>94841</th>\n",
       "      <td>528246</td>\n",
       "      <td>ment’s current expectations and beliefs and ar...</td>\n",
       "    </tr>\n",
       "  </tbody>\n",
       "</table>\n",
       "</div>"
      ],
      "text/plain": [
       "       article_id                                           chunk_cw\n",
       "88121      452970  BJ’s Wholesale Club (NYSE:BJ–Get Free Report) ...\n",
       "88121      452970  and six have given a buy rating to the company...\n",
       "88121      452970  t $46,000. Point72 Hong Kong Ltd bought a new ...\n",
       "69582      227784  Shares of NIPPON STL & SU/S (OTCMKTS:NSSMY–Get...\n",
       "58047      134197  Chico’s FAS, Inc. (NYSE:CHS–Get Free Report)’s...\n",
       "58047      134197  osition in shares of Chico’s FAS by 167.9% in ...\n",
       "15393        5337  Statement by UK Political Coordinator Fergus E...\n",
       "15393        5337  iolence, is the only way to achieve lasting pe...\n",
       "94841      528246  SANTIAGO, Chile, Nov.  20, 2023  (GLOBE NEWSWI...\n",
       "94841      528246  ment’s current expectations and beliefs and ar..."
      ]
     },
     "execution_count": 65,
     "metadata": {},
     "output_type": "execute_result"
    }
   ],
   "source": [
    "df_ss = df.sample(5)\n",
    "df_ss[\"chunk_cw\"] = df_ss[\"full_content\"].apply(chuck_text_context_window)\n",
    "df_ss.explode(column=\"chunk_cw\")[[\"article_id\",\"chunk_cw\"]]"
   ]
  },
  {
   "cell_type": "markdown",
   "metadata": {},
   "source": [
    "You can do it better with a tokenizer to count exactly what you want"
   ]
  },
  {
   "cell_type": "markdown",
   "metadata": {},
   "source": [
    "Same for paragraph : you need to define what is a paragraph. In our case, it is a line break."
   ]
  },
  {
   "cell_type": "code",
   "execution_count": 50,
   "metadata": {},
   "outputs": [],
   "source": [
    "def chunk_paragraphs(text):\n",
    "    \"\"\"\n",
    "    Cut the text into paragraphs.\n",
    "    \"\"\"\n",
    "    return text.split(\"\\n\")"
   ]
  },
  {
   "cell_type": "code",
   "execution_count": 66,
   "metadata": {},
   "outputs": [
    {
     "data": {
      "text/html": [
       "<div>\n",
       "<style scoped>\n",
       "    .dataframe tbody tr th:only-of-type {\n",
       "        vertical-align: middle;\n",
       "    }\n",
       "\n",
       "    .dataframe tbody tr th {\n",
       "        vertical-align: top;\n",
       "    }\n",
       "\n",
       "    .dataframe thead th {\n",
       "        text-align: right;\n",
       "    }\n",
       "</style>\n",
       "<table border=\"1\" class=\"dataframe\">\n",
       "  <thead>\n",
       "    <tr style=\"text-align: right;\">\n",
       "      <th></th>\n",
       "      <th>article_id</th>\n",
       "      <th>chunk_cw</th>\n",
       "    </tr>\n",
       "  </thead>\n",
       "  <tbody>\n",
       "    <tr>\n",
       "      <th>81275</th>\n",
       "      <td>337940</td>\n",
       "      <td>Summit X LLC raised its stake in O’Reilly Auto...</td>\n",
       "    </tr>\n",
       "    <tr>\n",
       "      <th>72588</th>\n",
       "      <td>266994</td>\n",
       "      <td>TEHRAN: Iranian president Ebrahim Raisi will t...</td>\n",
       "    </tr>\n",
       "    <tr>\n",
       "      <th>55380</th>\n",
       "      <td>125435</td>\n",
       "      <td>Village after village is under attack, with co...</td>\n",
       "    </tr>\n",
       "    <tr>\n",
       "      <th>7024</th>\n",
       "      <td>100171</td>\n",
       "      <td>Life Time is bringing its one-of-a-kind Life T...</td>\n",
       "    </tr>\n",
       "    <tr>\n",
       "      <th>101296</th>\n",
       "      <td>675914</td>\n",
       "      <td>Getty Images Shares of  Bajaj Holdings  &amp; Inve...</td>\n",
       "    </tr>\n",
       "    <tr>\n",
       "      <th>101296</th>\n",
       "      <td>675914</td>\n",
       "      <td>\\t\\t            Powered by</td>\n",
       "    </tr>\n",
       "    <tr>\n",
       "      <th>101296</th>\n",
       "      <td>675914</td>\n",
       "      <td>\\t\\t             Weekly Top Picks: Eight stock...</td>\n",
       "    </tr>\n",
       "    <tr>\n",
       "      <th>101296</th>\n",
       "      <td>675914</td>\n",
       "      <td>View  More Sto...</td>\n",
       "    </tr>\n",
       "    <tr>\n",
       "      <th>101296</th>\n",
       "      <td>675914</td>\n",
       "      <td></td>\n",
       "    </tr>\n",
       "    <tr>\n",
       "      <th>101296</th>\n",
       "      <td>675914</td>\n",
       "      <td>\\t\\t            Subscribe to  ETPrime</td>\n",
       "    </tr>\n",
       "  </tbody>\n",
       "</table>\n",
       "</div>"
      ],
      "text/plain": [
       "        article_id                                           chunk_cw\n",
       "81275       337940  Summit X LLC raised its stake in O’Reilly Auto...\n",
       "72588       266994  TEHRAN: Iranian president Ebrahim Raisi will t...\n",
       "55380       125435  Village after village is under attack, with co...\n",
       "7024        100171  Life Time is bringing its one-of-a-kind Life T...\n",
       "101296      675914  Getty Images Shares of  Bajaj Holdings  & Inve...\n",
       "101296      675914                         \\t\\t            Powered by\n",
       "101296      675914  \\t\\t             Weekly Top Picks: Eight stock...\n",
       "101296      675914                                  View  More Sto...\n",
       "101296      675914                                                   \n",
       "101296      675914              \\t\\t            Subscribe to  ETPrime"
      ]
     },
     "execution_count": 66,
     "metadata": {},
     "output_type": "execute_result"
    }
   ],
   "source": [
    "df_ss = df.sample(5)\n",
    "df_ss[\"chunk_cw\"] = df_ss[\"full_content\"].apply(chunk_paragraphs)\n",
    "df_ss.explode(column=\"chunk_cw\")[[\"article_id\",\"chunk_cw\"]]"
   ]
  },
  {
   "cell_type": "markdown",
   "metadata": {},
   "source": [
    "If you want to divide by sentence"
   ]
  },
  {
   "cell_type": "code",
   "execution_count": 47,
   "metadata": {},
   "outputs": [
    {
     "name": "stdout",
     "output_type": "stream",
     "text": [
      "Sentence 1: UN Secretary-General Antonio Guterres urged the world Monday to \"stop the madness\" of climate change as he visited Himalayan regions struggling from rapidly melting glaciers to witness the devastating impact of the phenomenon.\n",
      "Sentence 2: \"The rooftops of the world are caving in,\" Guterres said on a visit to the Everest region in mountainous Nepal, adding that the country had lost nearly a third of its ice in just over three decades.\n",
      "Sentence 3: \"Glaciers are icy reservoirs -- the ones here in the Himalayas supply fresh water to well over a billion people,\" he said.\n",
      "Sentence 4: \"When they shrink, so do river flows.\"\n",
      "Sentence 5: Nepal's glaciers melted 65 percent faster in the last decade than in the previous one, said Guterres, who is on a four-day visit to Nepal.\n",
      "Sentence 6: Glaciers in the wider Himalayan and Hindu Kush ranges are a crucial water source for around 240 million people in the mountainous regions, as well as for another 1.65 billion people in the South Asian and Southeast Asian river valleys below.\n",
      "Sentence 7: The glaciers feed 10 of the world's most important river systems, including the Ganges, Indus, Yellow, Mekong and Irrawaddy, and directly or indirectly supply billions of people with food, energy, clean air and income.\n",
      "Sentence 8: Scientists say they are melting faster than ever before due to climate change, exposing communities to unpredictable and costly disasters.\n",
      "Sentence 9: \"I am here today to cry out from the rooftop of the world: stop the madness\", Guterres said, speaking from Syangboche village, with the icy peak of the world's highest mountain Everest towering behind him.\n",
      "Sentence 10: \"The glaciers are retreating, but we cannot.\n",
      "Sentence 11: We must end the fossil fuel age,\" he said.\n",
      "Sentence 12: The world has warmed an average of nearly 1.2 degrees Celsius since the mid-1800s, unleashing a cascade of extreme weather, including more intense heatwaves, more severe droughts and storms made more ferocious by rising seas.\n",
      "Sentence 13: Hardest hit are the most vulnerable people and the world's poorest countries, which have done little to contribute to the fossil fuel emissions that drive up temperatures.\n",
      "Sentence 14: \"We must act now to protect people on the frontline, and to limit global temperature rise to 1.5 degrees, to avert the worst of climate chaos,\" Guterres said.\n",
      "Sentence 15: \"The world can't wait.\"\n",
      "Sentence 16: In the first phase of climate change's effects, melting glaciers can trigger destructive floods.\n",
      "Sentence 17: \"Melting glaciers mean swollen lakes and rivers flooding, sweeping away entire communities\", he added.\n",
      "Sentence 18: But all too soon, glaciers will dry up if change is not made, he warned.\n",
      "Sentence 19: \"In the future, major Himalayan rivers like the Indus, the Ganges and Brahmaputra could have massively reduced flows, he said.\n",
      "Sentence 20: \"That spells catastrophe\".\n"
     ]
    },
    {
     "name": "stderr",
     "output_type": "stream",
     "text": [
      "[nltk_data] Downloading package punkt to /Users/emilien/nltk_data...\n",
      "[nltk_data]   Package punkt is already up-to-date!\n"
     ]
    }
   ],
   "source": [
    "import nltk\n",
    "nltk.download(\"punkt\")\n",
    "from nltk.tokenize import sent_tokenize\n",
    "\n",
    "sentences = sent_tokenize(df.iloc[0][\"full_content\"], language=\"english\")\n",
    "\n",
    "for i, sent in enumerate(sentences, 1):\n",
    "    print(f\"Sentence {i}: {sent}\")"
   ]
  },
  {
   "cell_type": "markdown",
   "metadata": {},
   "source": [
    "Or use Spacy with a model"
   ]
  },
  {
   "cell_type": "code",
   "execution_count": 4,
   "metadata": {},
   "outputs": [],
   "source": [
    "#!pip install spacy\n",
    "#!python -m spacy download en_core_web_trf"
   ]
  },
  {
   "cell_type": "code",
   "execution_count": 8,
   "metadata": {},
   "outputs": [
    {
     "name": "stdout",
     "output_type": "stream",
     "text": [
      "🔹 Sentences:\n",
      "- UN Secretary-General Antonio Guterres urged the world Monday to \"stop the madness\" of climate change as he visited Himalayan regions struggling from rapidly melting glaciers to witness the devastating impact of the phenomenon.\n",
      "- \"The rooftops of the world are caving in,\" Guterres said on a visit to the Everest region in mountainous Nepal, adding that the country had lost nearly a third of its ice in just over three decades.\n",
      "- \"Glaciers are icy reservoirs -- the ones here in the Himalayas supply fresh water to well over a billion people,\" he said.\n",
      "- \"When they shrink, so do river flows.\"\n",
      "- Nepal's glaciers melted 65 percent faster in the last decade than in the previous one, said Guterres, who is on a four-day visit to Nepal.\n",
      "- Glaciers in the wider Himalayan and Hindu Kush ranges are a crucial water source for around 240 million people in the mountainous regions, as well as for another 1.65 billion people in the South Asian and Southeast Asian river valleys below.\n",
      "- The glaciers feed 10 of the world's most important river systems, including the Ganges, Indus, Yellow, Mekong and Irrawaddy, and directly or indirectly supply billions of people with food, energy, clean air and income.\n",
      "- Scientists say they are melting faster than ever before due to climate change, exposing communities to unpredictable and costly disasters.\n",
      "- \"I am here today to cry out from the rooftop of the world: stop the madness\", Guterres said, speaking from Syangboche village, with the icy peak of the world's highest mountain Everest towering behind him.\n",
      "- \"The glaciers are retreating, but we cannot.\n",
      "- We must end the fossil fuel age,\" he said.\n",
      "- The world has warmed an average of nearly 1.2 degrees Celsius since the mid-1800s, unleashing a cascade of extreme weather, including more intense heatwaves, more severe droughts and storms made more ferocious by rising seas.\n",
      "- Hardest hit are the most vulnerable people and the world's poorest countries, which have done little to contribute to the fossil fuel emissions that drive up temperatures\n",
      "- .\n",
      "- \"We must act now to protect people on the frontline, and to limit global temperature rise to 1.5 degrees, to avert the worst of climate chaos,\" Guterres said.\n",
      "- \"The world can't wait.\"\n",
      "- In the first phase of climate change's effects, melting glaciers can trigger destructive floods.\n",
      "- \"Melting glaciers mean swollen lakes and rivers flooding, sweeping away entire communities\", he added.\n",
      "- But all too soon, glaciers will dry up if change is not made, he warned.\n",
      "- \"In the future, major Himalayan rivers like the Indus, the Ganges and Brahmaputra could have massively reduced flows, he said.\n",
      "- \"That spells catastrophe\".\n"
     ]
    }
   ],
   "source": [
    "import spacy\n",
    "nlp = spacy.load(\"en_core_web_trf\")\n",
    "doc = nlp(df.iloc[0][\"full_content\"])\n",
    "print(\"🔹 Sentences:\")\n",
    "for sent in doc.sents:\n",
    "    print(f\"- {sent.text.strip()}\")"
   ]
  },
  {
   "cell_type": "markdown",
   "metadata": {},
   "source": [
    "Dedicated model to segment\n",
    "\n",
    "For instance : [wtpsplit](https://github.com/segment-any-text/wtpsplit)\n",
    "\n",
    "Which use dedicated models trained for segmentation : https://huggingface.co/segment-any-text/sat-3l"
   ]
  },
  {
   "cell_type": "code",
   "execution_count": 14,
   "metadata": {},
   "outputs": [
    {
     "name": "stdout",
     "output_type": "stream",
     "text": [
      "zsh:1: no matches found: wtpsplit[onnx-cpu]\n"
     ]
    }
   ],
   "source": [
    "#!pip install wtpsplit"
   ]
  },
  {
   "cell_type": "code",
   "execution_count": 2,
   "metadata": {},
   "outputs": [],
   "source": [
    "import os\n",
    "os.environ[\"TOKENIZERS_PARALLELISM\"] = \"false\""
   ]
  },
  {
   "cell_type": "code",
   "execution_count": 1,
   "metadata": {},
   "outputs": [],
   "source": [
    "from wtpsplit import SaT\n",
    "sat_sm = SaT(\"sat-3l-sm\")"
   ]
  },
  {
   "cell_type": "code",
   "execution_count": 7,
   "metadata": {},
   "outputs": [
    {
     "data": {
      "text/plain": [
       "[['UN Secretary-General Antonio Guterres urged the world Monday to \"stop the madness\" of climate change as he visited Himalayan regions struggling from rapidly melting glaciers to witness the devastating impact of the phenomenon. '],\n",
       " ['\"The rooftops of the world are caving in,\" Guterres said on a visit to the Everest region in mountainous Nepal, adding that the country had lost nearly a third of its ice in just over three decades. '],\n",
       " ['\"Glaciers are icy reservoirs -- the ones here in the Himalayas supply fresh water to well over a billion people,\" he said. '],\n",
       " ['\"When they shrink, so do river flows.\" '],\n",
       " [\"Nepal's glaciers melted 65 percent faster in the last decade than in the previous one, said Guterres, who is on a four-day visit to Nepal. \"],\n",
       " ['Glaciers in the wider Himalayan and Hindu Kush ranges are a crucial water source for around 240 million people in the mountainous regions, as well as for another 1.65 billion people in the South Asian and Southeast Asian river valleys below. '],\n",
       " [\"The glaciers feed 10 of the world's most important river systems, including the Ganges, Indus, Yellow, Mekong and Irrawaddy, and directly or indirectly supply billions of people with food, energy, clean air and income. \"],\n",
       " ['Scientists say they are melting faster than ever before due to climate change, exposing communities to unpredictable and costly disasters. '],\n",
       " ['\"I am here today to cry out from the rooftop of the world: stop the madness\", Guterres said, speaking from Syangboche village, with the icy peak of the world\\'s highest mountain Everest towering behind him. '],\n",
       " ['\"The glaciers are retreating, but we cannot. '],\n",
       " ['We must end the fossil fuel age,\" he said. '],\n",
       " ['The world has warmed an average of nearly 1.2 degrees Celsius since the mid-1800s, unleashing a cascade of extreme weather, including more intense heatwaves, more severe droughts and storms made more ferocious by rising seas. '],\n",
       " [\"Hardest hit are the most vulnerable people and the world's poorest countries, which have done little to contribute to the fossil fuel emissions that drive up temperatures. \"],\n",
       " ['\"We must act now to protect people on the frontline, and to limit global temperature rise to 1.5 degrees, to avert the worst of climate chaos,\" Guterres said. '],\n",
       " ['\"The world can\\'t wait.\" '],\n",
       " [\"In the first phase of climate change's effects, melting glaciers can trigger destructive floods. \"],\n",
       " ['\"Melting glaciers mean swollen lakes and rivers flooding, sweeping away entire communities\", he added. '],\n",
       " ['But all too soon, glaciers will dry up if change is not made, he warned. '],\n",
       " ['\"In the future, major Himalayan rivers like the Indus, the Ganges and Brahmaputra could have massively reduced flows, he said. '],\n",
       " ['\"That spells catastrophe\".']]"
      ]
     },
     "execution_count": 7,
     "metadata": {},
     "output_type": "execute_result"
    }
   ],
   "source": [
    "sat_sm.split(df.iloc[0][\"full_content\"], do_paragraph_segmentation=True)"
   ]
  },
  {
   "cell_type": "code",
   "execution_count": null,
   "metadata": {},
   "outputs": [],
   "source": []
  }
 ],
 "metadata": {
  "kernelspec": {
   "display_name": "sicss",
   "language": "python",
   "name": "python3"
  },
  "language_info": {
   "codemirror_mode": {
    "name": "ipython",
    "version": 3
   },
   "file_extension": ".py",
   "mimetype": "text/x-python",
   "name": "python",
   "nbconvert_exporter": "python",
   "pygments_lexer": "ipython3",
   "version": "3.12.11"
  }
 },
 "nbformat": 4,
 "nbformat_minor": 2
}
