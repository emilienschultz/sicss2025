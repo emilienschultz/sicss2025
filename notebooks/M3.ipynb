{
  "nbformat": 4,
  "nbformat_minor": 0,
  "metadata": {
    "colab": {
      "provenance": []
    },
    "kernelspec": {
      "name": "python3",
      "display_name": "Python 3"
    },
    "language_info": {
      "name": "python"
    }
  },
  "cells": [
    {
      "cell_type": "markdown",
      "source": [
        "## Définir une fonction"
      ],
      "metadata": {
        "id": "lDTQ_Zs61GJP"
      }
    },
    {
      "cell_type": "code",
      "execution_count": 4,
      "metadata": {
        "id": "ETdV3ZBPh-Sd"
      },
      "outputs": [],
      "source": [
        " def count_words_in_text(text):\n",
        "  \"\"\"\n",
        "  Count the number of words\n",
        "  \"\"\"\n",
        "  count = len(text.split(\" \"))\n",
        "  return count"
      ]
    },
    {
      "cell_type": "code",
      "source": [
        "count_words_in_text"
      ],
      "metadata": {
        "colab": {
          "base_uri": "https://localhost:8080/",
          "height": 104
        },
        "id": "ZHDfuHFkiF0Q",
        "outputId": "9f418582-a01f-440e-8db2-cad598e9e004"
      },
      "execution_count": 5,
      "outputs": [
        {
          "output_type": "execute_result",
          "data": {
            "text/plain": [
              "<function __main__.count_words_in_text(text)>"
            ],
            "text/html": [
              "<div style=\"max-width:800px; border: 1px solid var(--colab-border-color);\"><style>\n",
              "      pre.function-repr-contents {\n",
              "        overflow-x: auto;\n",
              "        padding: 8px 12px;\n",
              "        max-height: 500px;\n",
              "      }\n",
              "\n",
              "      pre.function-repr-contents.function-repr-contents-collapsed {\n",
              "        cursor: pointer;\n",
              "        max-height: 100px;\n",
              "      }\n",
              "    </style>\n",
              "    <pre style=\"white-space: initial; background:\n",
              "         var(--colab-secondary-surface-color); padding: 8px 12px;\n",
              "         border-bottom: 1px solid var(--colab-border-color);\"><b>count_words_in_text</b><br/>def count_words_in_text(text)</pre><pre class=\"function-repr-contents function-repr-contents-collapsed\" style=\"\"><a class=\"filepath\" style=\"display:none\" href=\"#\">/content/&lt;ipython-input-4-1844669946&gt;</a>Count the number of words</pre></div>"
            ]
          },
          "metadata": {},
          "execution_count": 5
        }
      ]
    },
    {
      "cell_type": "code",
      "source": [
        "count_words_in_text(\"This is my text\")"
      ],
      "metadata": {
        "colab": {
          "base_uri": "https://localhost:8080/"
        },
        "id": "SKzvvbqEiHjm",
        "outputId": "b8eadefe-ca60-4f27-8968-2acaa7b0f42c"
      },
      "execution_count": 6,
      "outputs": [
        {
          "output_type": "execute_result",
          "data": {
            "text/plain": [
              "4"
            ]
          },
          "metadata": {},
          "execution_count": 6
        }
      ]
    },
    {
      "cell_type": "markdown",
      "source": [
        "# Install a package"
      ],
      "metadata": {
        "id": "qvyH9nmLkPhm"
      }
    },
    {
      "cell_type": "code",
      "source": [
        "pip install networkx"
      ],
      "metadata": {
        "colab": {
          "base_uri": "https://localhost:8080/"
        },
        "id": "aOCdWHGjiJK4",
        "outputId": "0eafdde9-02de-4f4b-aa63-5e41e3e9979f"
      },
      "execution_count": 7,
      "outputs": [
        {
          "output_type": "stream",
          "name": "stdout",
          "text": [
            "Requirement already satisfied: networkx in /usr/local/lib/python3.11/dist-packages (3.5)\n"
          ]
        }
      ]
    },
    {
      "cell_type": "code",
      "source": [
        "import networkx"
      ],
      "metadata": {
        "id": "JKtxdViQkVOk"
      },
      "execution_count": 8,
      "outputs": []
    },
    {
      "cell_type": "code",
      "source": [],
      "metadata": {
        "id": "VUKUnlZOkWEZ"
      },
      "execution_count": null,
      "outputs": []
    },
    {
      "cell_type": "markdown",
      "source": [
        "## Commands line"
      ],
      "metadata": {
        "id": "9dH7HzzcpBYi"
      }
    },
    {
      "cell_type": "code",
      "source": [
        "pwd"
      ],
      "metadata": {
        "colab": {
          "base_uri": "https://localhost:8080/",
          "height": 35
        },
        "id": "qwOpw6KYpNYD",
        "outputId": "2fbf975e-e90d-4fbf-e176-f2fadd7c2492"
      },
      "execution_count": 10,
      "outputs": [
        {
          "output_type": "execute_result",
          "data": {
            "text/plain": [
              "'/content'"
            ],
            "application/vnd.google.colaboratory.intrinsic+json": {
              "type": "string"
            }
          },
          "metadata": {},
          "execution_count": 10
        }
      ]
    },
    {
      "cell_type": "code",
      "source": [
        "ls"
      ],
      "metadata": {
        "colab": {
          "base_uri": "https://localhost:8080/"
        },
        "id": "EvLzcuEppCJ0",
        "outputId": "d69cfa20-49b4-47a9-fb7f-931ad3f71130"
      },
      "execution_count": 9,
      "outputs": [
        {
          "output_type": "stream",
          "name": "stdout",
          "text": [
            "\u001b[0m\u001b[01;34msample_data\u001b[0m/\n"
          ]
        }
      ]
    },
    {
      "cell_type": "code",
      "source": [
        "cd sample_data"
      ],
      "metadata": {
        "colab": {
          "base_uri": "https://localhost:8080/"
        },
        "id": "6EErtqD3pSWY",
        "outputId": "b20a6e1d-07d8-416c-ab50-ad2e7f266ef3"
      },
      "execution_count": 11,
      "outputs": [
        {
          "output_type": "stream",
          "name": "stdout",
          "text": [
            "/content/sample_data\n"
          ]
        }
      ]
    },
    {
      "cell_type": "code",
      "source": [
        "pwd"
      ],
      "metadata": {
        "colab": {
          "base_uri": "https://localhost:8080/",
          "height": 35
        },
        "id": "KWHiZ-kjpT7l",
        "outputId": "06f60a3b-2fe1-4c65-99fa-3f8a53fe13c4"
      },
      "execution_count": 12,
      "outputs": [
        {
          "output_type": "execute_result",
          "data": {
            "text/plain": [
              "'/content/sample_data'"
            ],
            "application/vnd.google.colaboratory.intrinsic+json": {
              "type": "string"
            }
          },
          "metadata": {},
          "execution_count": 12
        }
      ]
    },
    {
      "cell_type": "markdown",
      "source": [
        "## Using Google Drive"
      ],
      "metadata": {
        "id": "Mqxxc4asqLkP"
      }
    },
    {
      "cell_type": "code",
      "source": [
        "from google.colab import drive\n",
        "drive.mount('/content/drive')"
      ],
      "metadata": {
        "colab": {
          "base_uri": "https://localhost:8080/"
        },
        "id": "TeFR7zd3qNI-",
        "outputId": "5b597611-1632-4e9b-a077-b0f76e03e11a"
      },
      "execution_count": 13,
      "outputs": [
        {
          "output_type": "stream",
          "name": "stdout",
          "text": [
            "Mounted at /content/drive\n"
          ]
        }
      ]
    },
    {
      "cell_type": "code",
      "source": [
        "cd .."
      ],
      "metadata": {
        "colab": {
          "base_uri": "https://localhost:8080/"
        },
        "id": "VQmt9JU8qWtW",
        "outputId": "8c00da95-21ff-48c5-a974-0ce490844647"
      },
      "execution_count": 16,
      "outputs": [
        {
          "output_type": "stream",
          "name": "stdout",
          "text": [
            "/content\n"
          ]
        }
      ]
    },
    {
      "cell_type": "code",
      "source": [
        "pwd"
      ],
      "metadata": {
        "colab": {
          "base_uri": "https://localhost:8080/",
          "height": 35
        },
        "id": "G4k7580fqXhO",
        "outputId": "83cb6243-20de-4d0c-914d-629f0db5c0d7"
      },
      "execution_count": 17,
      "outputs": [
        {
          "output_type": "execute_result",
          "data": {
            "text/plain": [
              "'/content'"
            ],
            "application/vnd.google.colaboratory.intrinsic+json": {
              "type": "string"
            }
          },
          "metadata": {},
          "execution_count": 17
        }
      ]
    },
    {
      "cell_type": "code",
      "source": [
        "cd .."
      ],
      "metadata": {
        "colab": {
          "base_uri": "https://localhost:8080/"
        },
        "id": "DaLsy5-qqY-n",
        "outputId": "70255607-8b7f-4381-d9fa-8ae74ec847aa"
      },
      "execution_count": 18,
      "outputs": [
        {
          "output_type": "stream",
          "name": "stdout",
          "text": [
            "/\n"
          ]
        }
      ]
    },
    {
      "cell_type": "code",
      "source": [
        "pwd"
      ],
      "metadata": {
        "colab": {
          "base_uri": "https://localhost:8080/",
          "height": 35
        },
        "id": "7tzNGOZHqZnC",
        "outputId": "56abe4ac-fee6-48fe-cd6c-dc11d848a1a7"
      },
      "execution_count": 19,
      "outputs": [
        {
          "output_type": "execute_result",
          "data": {
            "text/plain": [
              "'/'"
            ],
            "application/vnd.google.colaboratory.intrinsic+json": {
              "type": "string"
            }
          },
          "metadata": {},
          "execution_count": 19
        }
      ]
    },
    {
      "cell_type": "code",
      "source": [
        "cd /content/"
      ],
      "metadata": {
        "colab": {
          "base_uri": "https://localhost:8080/"
        },
        "id": "HPrMCPvWqaEZ",
        "outputId": "3d40f06a-80ff-480d-cb50-9b887307a853"
      },
      "execution_count": 20,
      "outputs": [
        {
          "output_type": "stream",
          "name": "stdout",
          "text": [
            "/content\n"
          ]
        }
      ]
    },
    {
      "cell_type": "code",
      "source": [
        "ls"
      ],
      "metadata": {
        "colab": {
          "base_uri": "https://localhost:8080/"
        },
        "id": "7vv9nhRzqcWP",
        "outputId": "bbdb2849-6cec-4fbc-deca-fb2d8e8ca5e4"
      },
      "execution_count": 21,
      "outputs": [
        {
          "output_type": "stream",
          "name": "stdout",
          "text": [
            "\u001b[0m\u001b[01;34mdrive\u001b[0m/  \u001b[01;34msample_data\u001b[0m/\n"
          ]
        }
      ]
    },
    {
      "cell_type": "code",
      "source": [
        "cd drive"
      ],
      "metadata": {
        "colab": {
          "base_uri": "https://localhost:8080/"
        },
        "id": "sDmIT4f3qcx8",
        "outputId": "a796e15e-dad1-4a0a-b8e7-620045bb73be"
      },
      "execution_count": 22,
      "outputs": [
        {
          "output_type": "stream",
          "name": "stdout",
          "text": [
            "/content/drive\n"
          ]
        }
      ]
    },
    {
      "cell_type": "code",
      "source": [
        "ls"
      ],
      "metadata": {
        "colab": {
          "base_uri": "https://localhost:8080/"
        },
        "id": "vrj59i5xqeAZ",
        "outputId": "0d9ef821-e6d3-4bf1-db68-753212f26071"
      },
      "execution_count": 23,
      "outputs": [
        {
          "output_type": "stream",
          "name": "stdout",
          "text": [
            "\u001b[0m\u001b[01;34mMyDrive\u001b[0m/\n"
          ]
        }
      ]
    },
    {
      "cell_type": "code",
      "source": [
        "cd MyDrive/"
      ],
      "metadata": {
        "colab": {
          "base_uri": "https://localhost:8080/"
        },
        "id": "o4h5WPVyqeYX",
        "outputId": "12c58a9d-0232-4a6d-8a4f-09bc6f363775"
      },
      "execution_count": 24,
      "outputs": [
        {
          "output_type": "stream",
          "name": "stdout",
          "text": [
            "/content/drive/MyDrive\n"
          ]
        }
      ]
    },
    {
      "cell_type": "code",
      "source": [
        "ls"
      ],
      "metadata": {
        "colab": {
          "base_uri": "https://localhost:8080/"
        },
        "id": "HDo1t8QnqfLY",
        "outputId": "4a16a67e-cd70-4265-eef7-b1f560a8ebc1"
      },
      "execution_count": 25,
      "outputs": [
        {
          "output_type": "stream",
          "name": "stdout",
          "text": [
            " 2025-01-21_Reu5_Support.pdf\n",
            " \u001b[0m\u001b[01;34mAdministratif\u001b[0m/\n",
            " \u001b[01;34mArchives\u001b[0m/\n",
            " \u001b[01;34mArticles\u001b[0m/\n",
            "\u001b[01;34m'Colab Notebooks'\u001b[0m/\n",
            " \u001b[01;34mCollaboration\u001b[0m/\n",
            " \u001b[01;34mCommunication\u001b[0m/\n",
            " \u001b[01;34mcontroverses\u001b[0m/\n",
            " \u001b[01;34mcoronavirus\u001b[0m/\n",
            "\u001b[01;34m'coronavirus (1)'\u001b[0m/\n",
            " \u001b[01;34mCours\u001b[0m/\n",
            "\u001b[01;34m'CR Rosental'\u001b[0m/\n",
            " \u001b[01;34mcvv\u001b[0m/\n",
            " \u001b[01;36mdata\u001b[0m@\n",
            "'Document sans titre.gdoc'\n",
            "\u001b[01;34m'Egalican - pédiatrie'\u001b[0m/\n",
            "\u001b[01;34m'Enquête Kéfir'\u001b[0m/\n",
            "'Feuille de calcul sans titre.gsheet'\n",
            " \u001b[01;34mimpact\u001b[0m/\n",
            " \u001b[01;34mJeux\u001b[0m/\n",
            " \u001b[01;34mLivres\u001b[0m/\n",
            " \u001b[01;34mmodels\u001b[0m/\n",
            " \u001b[01;34mOLD\u001b[0m/\n",
            " \u001b[01;34mOPECST\u001b[0m/\n",
            " PARIS_NORD-LILLE_EUROPE_12-12-24_SCHULTZ_EMILIEN_ADXB5W_Hz7PLFhofyFGPl5NX0ya.pdf\n",
            " \u001b[01;34mPhoto\u001b[0m/\n",
            " Prace_Notes.gdoc\n",
            "'Procédure d_accompagnement.pdf'\n",
            " \u001b[01;34mPython\u001b[0m/\n",
            " \u001b[01;34mRecettes\u001b[0m/\n",
            " \u001b[01;34mRecherche\u001b[0m/\n",
            "'Retour sur l’ascension du Mont Cameroun 19-23 01 2025.gdoc'\n",
            " \u001b[01;34mScripts\u001b[0m/\n",
            " \u001b[01;34mSINCRO\u001b[0m/\n",
            " \u001b[01;34mSlides\u001b[0m/\n",
            " \u001b[01;34mtemporaire\u001b[0m/\n",
            " \u001b[01;34mTransition\u001b[0m/\n",
            "'Tutoriel ActiveTigger_vEO.pdf'\n"
          ]
        }
      ]
    },
    {
      "cell_type": "code",
      "source": [],
      "metadata": {
        "id": "dHLoOtn1qfhR"
      },
      "execution_count": null,
      "outputs": []
    }
  ]
}