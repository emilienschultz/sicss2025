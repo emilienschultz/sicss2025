{
  "nbformat": 4,
  "nbformat_minor": 0,
  "metadata": {
    "colab": {
      "provenance": []
    },
    "kernelspec": {
      "name": "python3",
      "display_name": "Python 3"
    },
    "language_info": {
      "name": "python"
    }
  },
  "cells": [
    {
      "cell_type": "markdown",
      "source": [
        "# This is my first notebook"
      ],
      "metadata": {
        "id": "v2IPHe4EUDuK"
      }
    },
    {
      "cell_type": "code",
      "source": [
        "1+1"
      ],
      "metadata": {
        "colab": {
          "base_uri": "https://localhost:8080/"
        },
        "id": "j-zDZKiLUI1n",
        "outputId": "0bb0d5dc-5879-4f20-c550-a8f61f13a130"
      },
      "execution_count": null,
      "outputs": [
        {
          "output_type": "execute_result",
          "data": {
            "text/plain": [
              "2"
            ]
          },
          "metadata": {},
          "execution_count": 15
        }
      ]
    },
    {
      "cell_type": "code",
      "source": [
        "sortie_fichier = True # create a new boolean object/variable\n",
        "nombre_min_lettres = 4 # create a new integer object/variable\n",
        "phrase = input(\"Write a sentence here: \") # ask the use a text and create a variable\n",
        "liste_mots = phrase.split(\" \") # we cut the text on the spaces and get a list of words\n",
        "nombre_mots = len(liste_mots) # number of elements in my list\n",
        "if len(phrase) == 0:\n",
        "    print(\"Vous n'avez rien écrit\")\n",
        "else:\n",
        "    # count the number of words that have more than nombre_min_lettres letters\n",
        "    compteur = 0 # we define a counter\n",
        "    for i in liste_mots: # we take each elements in the words list\n",
        "        if len(i) >= nombre_min_lettres: # if the word has more than the limit of letters\n",
        "            compteur += 1 # increase the counter\n",
        "\n",
        "    proportion = round(100*compteur/nombre_mots,2)\n",
        "    informations = {\"Total\":compteur,\n",
        "                    \"Proportion\":proportion,\n",
        "                    \"Phrase\":phrase,\n",
        "                    \"Seuil\":nombre_min_lettres\n",
        "                    }\n",
        "    sortie = f\"Proportion de mots avec {nombre_min_lettres} lettres ou plus : {proportion}\"\n",
        "    print(sortie)\n",
        "    if sortie_fichier:\n",
        "        with open(\"resultat.txt\",\"w\") as f:\n",
        "            f.write(str(informations))"
      ],
      "metadata": {
        "colab": {
          "base_uri": "https://localhost:8080/"
        },
        "id": "3MBnznVvUXHf",
        "outputId": "12a62834-0fe3-43f4-97d9-6302120240ac"
      },
      "execution_count": null,
      "outputs": [
        {
          "output_type": "stream",
          "name": "stdout",
          "text": [
            "Écrivez une phrase: Hi\n",
            "Proportion de mots avec 4 lettres ou plus : 0.0\n"
          ]
        }
      ]
    },
    {
      "cell_type": "code",
      "source": [
        "66.7/100"
      ],
      "metadata": {
        "id": "GTcxl9A9U6lT"
      },
      "execution_count": null,
      "outputs": []
    },
    {
      "cell_type": "markdown",
      "source": [
        "## First line\n",
        "\n",
        "- create a new element/variable/object\n",
        "- give it a value (True)\n",
        "- by this way, give it a type"
      ],
      "metadata": {
        "id": "qsY_9HL5VXH8"
      }
    },
    {
      "cell_type": "code",
      "source": [
        "sortie_fichier = True"
      ],
      "metadata": {
        "id": "NSjKZ2pqU968"
      },
      "execution_count": null,
      "outputs": []
    },
    {
      "cell_type": "markdown",
      "source": [
        "- True : is a built-in type\n",
        "- type : is a built-in function"
      ],
      "metadata": {
        "id": "Z1BPtYdUVokX"
      }
    },
    {
      "cell_type": "code",
      "source": [
        "sortie_fichier"
      ],
      "metadata": {
        "id": "zOcmC5-OWN3k"
      },
      "execution_count": null,
      "outputs": []
    },
    {
      "cell_type": "code",
      "source": [
        "type(sortie_fichier)"
      ],
      "metadata": {
        "id": "O2TkgmVpVqsH"
      },
      "execution_count": null,
      "outputs": []
    },
    {
      "cell_type": "markdown",
      "source": [
        "## Second line"
      ],
      "metadata": {
        "id": "mIYaumktW2T6"
      }
    },
    {
      "cell_type": "code",
      "source": [
        "nombre_min_lettres = 4"
      ],
      "metadata": {
        "id": "gDzedFqgWkyk"
      },
      "execution_count": null,
      "outputs": []
    },
    {
      "cell_type": "code",
      "source": [
        "type(nombre_min_lettres)"
      ],
      "metadata": {
        "colab": {
          "base_uri": "https://localhost:8080/"
        },
        "id": "EenfOUQIW4ml",
        "outputId": "668c2812-f0b5-4c37-8b64-a52dda79b72c"
      },
      "execution_count": null,
      "outputs": [
        {
          "output_type": "execute_result",
          "data": {
            "text/plain": [
              "int"
            ]
          },
          "metadata": {},
          "execution_count": 24
        }
      ]
    },
    {
      "cell_type": "code",
      "source": [
        "nombre_min_lettres + 10"
      ],
      "metadata": {
        "colab": {
          "base_uri": "https://localhost:8080/"
        },
        "id": "aaN_8RPuXs89",
        "outputId": "df6a305b-16ff-4a9e-884d-30e28f8b7481"
      },
      "execution_count": null,
      "outputs": [
        {
          "output_type": "execute_result",
          "data": {
            "text/plain": [
              "14"
            ]
          },
          "metadata": {},
          "execution_count": 27
        }
      ]
    },
    {
      "cell_type": "markdown",
      "source": [
        "## Third line"
      ],
      "metadata": {
        "id": "7PNF_T7XYGm4"
      }
    },
    {
      "cell_type": "code",
      "source": [
        "phrase = input(\"Écrivez une phrase: \")"
      ],
      "metadata": {
        "colab": {
          "base_uri": "https://localhost:8080/"
        },
        "id": "lrXEoS2uX8Ir",
        "outputId": "7230f4ba-9a9a-4733-b0b9-df02588abc14"
      },
      "execution_count": null,
      "outputs": [
        {
          "name": "stdout",
          "output_type": "stream",
          "text": [
            "Écrivez une phrase: This is a sence\n"
          ]
        }
      ]
    },
    {
      "cell_type": "code",
      "source": [
        "input(\"Écrivez une phrase: \")"
      ],
      "metadata": {
        "colab": {
          "base_uri": "https://localhost:8080/",
          "height": 52
        },
        "id": "Tg8A0cQTYJ6C",
        "outputId": "8c0e6de9-9977-4f5e-f955-0b6e30f46aee"
      },
      "execution_count": null,
      "outputs": [
        {
          "name": "stdout",
          "output_type": "stream",
          "text": [
            "Écrivez une phrase: \n"
          ]
        },
        {
          "output_type": "execute_result",
          "data": {
            "text/plain": [
              "''"
            ],
            "application/vnd.google.colaboratory.intrinsic+json": {
              "type": "string"
            }
          },
          "metadata": {},
          "execution_count": 51
        }
      ]
    },
    {
      "cell_type": "code",
      "source": [
        "type(input)"
      ],
      "metadata": {
        "colab": {
          "base_uri": "https://localhost:8080/"
        },
        "id": "9mYWDztKYTo0",
        "outputId": "a7bbbc58-01f4-43f0-a74c-09f40613d94e"
      },
      "execution_count": null,
      "outputs": [
        {
          "output_type": "execute_result",
          "data": {
            "text/plain": [
              "method"
            ]
          },
          "metadata": {},
          "execution_count": 52
        }
      ]
    },
    {
      "cell_type": "markdown",
      "source": [
        "You can access the help with ?"
      ],
      "metadata": {
        "id": "yoBG-Zy5YsK1"
      }
    },
    {
      "cell_type": "code",
      "source": [
        "input?"
      ],
      "metadata": {
        "id": "FWTOWpT9YXld"
      },
      "execution_count": null,
      "outputs": []
    },
    {
      "cell_type": "code",
      "source": [
        "input(\"Write a content : \")"
      ],
      "metadata": {
        "colab": {
          "base_uri": "https://localhost:8080/",
          "height": 52
        },
        "id": "QJPBAcgaYiWv",
        "outputId": "fb2aad79-1346-406a-8236-a2704bcfb932"
      },
      "execution_count": null,
      "outputs": [
        {
          "name": "stdout",
          "output_type": "stream",
          "text": [
            "Write a content : Write a content\n"
          ]
        },
        {
          "output_type": "execute_result",
          "data": {
            "text/plain": [
              "'Write a content'"
            ],
            "application/vnd.google.colaboratory.intrinsic+json": {
              "type": "string"
            }
          },
          "metadata": {},
          "execution_count": 38
        }
      ]
    },
    {
      "cell_type": "code",
      "source": [
        "phrase"
      ],
      "metadata": {
        "colab": {
          "base_uri": "https://localhost:8080/",
          "height": 35
        },
        "id": "H5GKU833Ywad",
        "outputId": "aa79056b-b5e5-4cab-b175-2040e145a50e"
      },
      "execution_count": null,
      "outputs": [
        {
          "output_type": "execute_result",
          "data": {
            "text/plain": [
              "'This is my sentence'"
            ],
            "application/vnd.google.colaboratory.intrinsic+json": {
              "type": "string"
            }
          },
          "metadata": {},
          "execution_count": 40
        }
      ]
    },
    {
      "cell_type": "code",
      "source": [
        "type(phrase)"
      ],
      "metadata": {
        "colab": {
          "base_uri": "https://localhost:8080/"
        },
        "id": "97SRwfEKZDCj",
        "outputId": "c80810f1-a347-4079-c213-9a1eb35ac84c"
      },
      "execution_count": null,
      "outputs": [
        {
          "output_type": "execute_result",
          "data": {
            "text/plain": [
              "str"
            ]
          },
          "metadata": {},
          "execution_count": 42
        }
      ]
    },
    {
      "cell_type": "code",
      "source": [
        "phrase + 10"
      ],
      "metadata": {
        "colab": {
          "base_uri": "https://localhost:8080/",
          "height": 141
        },
        "id": "TL4ytAdeZFi-",
        "outputId": "9b8b8b28-13ac-4f05-a844-6d32398e794e"
      },
      "execution_count": null,
      "outputs": [
        {
          "output_type": "error",
          "ename": "TypeError",
          "evalue": "can only concatenate str (not \"int\") to str",
          "traceback": [
            "\u001b[0;31m---------------------------------------------------------------------------\u001b[0m",
            "\u001b[0;31mTypeError\u001b[0m                                 Traceback (most recent call last)",
            "\u001b[0;32m<ipython-input-43-2354125824>\u001b[0m in \u001b[0;36m<cell line: 0>\u001b[0;34m()\u001b[0m\n\u001b[0;32m----> 1\u001b[0;31m \u001b[0mphrase\u001b[0m \u001b[0;34m+\u001b[0m \u001b[0;36m10\u001b[0m\u001b[0;34m\u001b[0m\u001b[0;34m\u001b[0m\u001b[0m\n\u001b[0m",
            "\u001b[0;31mTypeError\u001b[0m: can only concatenate str (not \"int\") to str"
          ]
        }
      ]
    },
    {
      "cell_type": "code",
      "source": [
        "10 + 4.0"
      ],
      "metadata": {
        "colab": {
          "base_uri": "https://localhost:8080/"
        },
        "id": "6cAPei57Zcla",
        "outputId": "2ac6e0a4-2680-490c-a84e-33fbdf0e969c"
      },
      "execution_count": null,
      "outputs": [
        {
          "output_type": "execute_result",
          "data": {
            "text/plain": [
              "14.0"
            ]
          },
          "metadata": {},
          "execution_count": 45
        }
      ]
    },
    {
      "cell_type": "code",
      "source": [
        "\"one\" + \"two\""
      ],
      "metadata": {
        "colab": {
          "base_uri": "https://localhost:8080/",
          "height": 35
        },
        "id": "TS8VOGQGZdPu",
        "outputId": "a419ec41-e0d7-4f67-dd00-558001e6abf1"
      },
      "execution_count": null,
      "outputs": [
        {
          "output_type": "execute_result",
          "data": {
            "text/plain": [
              "'onetwo'"
            ],
            "application/vnd.google.colaboratory.intrinsic+json": {
              "type": "string"
            }
          },
          "metadata": {},
          "execution_count": 46
        }
      ]
    },
    {
      "cell_type": "code",
      "source": [
        "\"one\" + 2"
      ],
      "metadata": {
        "colab": {
          "base_uri": "https://localhost:8080/",
          "height": 141
        },
        "id": "K-wP8bisZhTO",
        "outputId": "2a8d2957-9133-49ed-f3f8-5e4a3e4d2692"
      },
      "execution_count": null,
      "outputs": [
        {
          "output_type": "error",
          "ename": "TypeError",
          "evalue": "can only concatenate str (not \"int\") to str",
          "traceback": [
            "\u001b[0;31m---------------------------------------------------------------------------\u001b[0m",
            "\u001b[0;31mTypeError\u001b[0m                                 Traceback (most recent call last)",
            "\u001b[0;32m<ipython-input-47-400557384>\u001b[0m in \u001b[0;36m<cell line: 0>\u001b[0;34m()\u001b[0m\n\u001b[0;32m----> 1\u001b[0;31m \u001b[0;34m\"one\"\u001b[0m \u001b[0;34m+\u001b[0m \u001b[0;36m2\u001b[0m\u001b[0;34m\u001b[0m\u001b[0;34m\u001b[0m\u001b[0m\n\u001b[0m",
            "\u001b[0;31mTypeError\u001b[0m: can only concatenate str (not \"int\") to str"
          ]
        }
      ]
    },
    {
      "cell_type": "code",
      "source": [
        "phras"
      ],
      "metadata": {
        "colab": {
          "base_uri": "https://localhost:8080/",
          "height": 141
        },
        "id": "BU_2JzcNZt2s",
        "outputId": "e339f040-7e3f-4f3d-d5d0-579e65a7b7fd"
      },
      "execution_count": null,
      "outputs": [
        {
          "output_type": "error",
          "ename": "NameError",
          "evalue": "name 'phras' is not defined",
          "traceback": [
            "\u001b[0;31m---------------------------------------------------------------------------\u001b[0m",
            "\u001b[0;31mNameError\u001b[0m                                 Traceback (most recent call last)",
            "\u001b[0;32m<ipython-input-53-1612898333>\u001b[0m in \u001b[0;36m<cell line: 0>\u001b[0;34m()\u001b[0m\n\u001b[0;32m----> 1\u001b[0;31m \u001b[0mphras\u001b[0m\u001b[0;34m\u001b[0m\u001b[0;34m\u001b[0m\u001b[0m\n\u001b[0m",
            "\u001b[0;31mNameError\u001b[0m: name 'phras' is not defined"
          ]
        }
      ]
    },
    {
      "cell_type": "markdown",
      "source": [
        "## Line 4"
      ],
      "metadata": {
        "id": "SL-gESu9aHRB"
      }
    },
    {
      "cell_type": "code",
      "source": [
        "liste_mots = phrase.split(\" \")"
      ],
      "metadata": {
        "id": "NzTb6H9xZ6Mq"
      },
      "execution_count": null,
      "outputs": []
    },
    {
      "cell_type": "code",
      "source": [
        "phrase.split(\" \")"
      ],
      "metadata": {
        "colab": {
          "base_uri": "https://localhost:8080/"
        },
        "id": "3iMqM343aOuv",
        "outputId": "554ec50d-eb12-442a-db34-0fb32a9a97ed"
      },
      "execution_count": null,
      "outputs": [
        {
          "output_type": "execute_result",
          "data": {
            "text/plain": [
              "['This', 'is', 'a', 'sence']"
            ]
          },
          "metadata": {},
          "execution_count": 55
        }
      ]
    },
    {
      "cell_type": "code",
      "source": [
        "type(liste_mots)"
      ],
      "metadata": {
        "colab": {
          "base_uri": "https://localhost:8080/"
        },
        "id": "yBRueaJLaO-o",
        "outputId": "090e108d-27ed-487a-fc4b-7440294c0e4f"
      },
      "execution_count": null,
      "outputs": [
        {
          "output_type": "execute_result",
          "data": {
            "text/plain": [
              "list"
            ]
          },
          "metadata": {},
          "execution_count": 56
        }
      ]
    },
    {
      "cell_type": "code",
      "source": [
        "\"This a sentence\".split(\" \")"
      ],
      "metadata": {
        "colab": {
          "base_uri": "https://localhost:8080/"
        },
        "id": "NZChlMxMaSrm",
        "outputId": "4705f12b-74f2-4c3a-9cc6-db7a6eceb4a8"
      },
      "execution_count": null,
      "outputs": [
        {
          "output_type": "execute_result",
          "data": {
            "text/plain": [
              "['This', 'a', 'sentence']"
            ]
          },
          "metadata": {},
          "execution_count": 57
        }
      ]
    },
    {
      "cell_type": "code",
      "source": [
        "phrase.upper()"
      ],
      "metadata": {
        "colab": {
          "base_uri": "https://localhost:8080/",
          "height": 35
        },
        "id": "9JXQdR06aiZC",
        "outputId": "5969979b-a371-4714-e771-7a1ac85d1be9"
      },
      "execution_count": null,
      "outputs": [
        {
          "output_type": "execute_result",
          "data": {
            "text/plain": [
              "'THIS IS A SENCE'"
            ],
            "application/vnd.google.colaboratory.intrinsic+json": {
              "type": "string"
            }
          },
          "metadata": {},
          "execution_count": 58
        }
      ]
    },
    {
      "cell_type": "code",
      "source": [
        "phrase.replace(\"sence\",\"paragraph\")"
      ],
      "metadata": {
        "colab": {
          "base_uri": "https://localhost:8080/",
          "height": 35
        },
        "id": "6mJcVmpLawK_",
        "outputId": "7c8d2b27-0396-469f-b631-387aa4e2827d"
      },
      "execution_count": null,
      "outputs": [
        {
          "output_type": "execute_result",
          "data": {
            "text/plain": [
              "'This is a paragraph'"
            ],
            "application/vnd.google.colaboratory.intrinsic+json": {
              "type": "string"
            }
          },
          "metadata": {},
          "execution_count": 61
        }
      ]
    },
    {
      "cell_type": "markdown",
      "source": [
        "Lists are containers indexed from 0 to len(list)-1"
      ],
      "metadata": {
        "id": "F0zGa4eKcEWO"
      }
    },
    {
      "cell_type": "code",
      "source": [
        "liste_mots[1:3]"
      ],
      "metadata": {
        "colab": {
          "base_uri": "https://localhost:8080/"
        },
        "id": "LHtyQLdkb9Sh",
        "outputId": "245d310c-7fdd-4d44-8029-a6db7ce62df9"
      },
      "execution_count": null,
      "outputs": [
        {
          "output_type": "execute_result",
          "data": {
            "text/plain": [
              "['is', 'a']"
            ]
          },
          "metadata": {},
          "execution_count": 66
        }
      ]
    },
    {
      "cell_type": "code",
      "source": [
        "my_list = [\"A\", 1, 10, \"B\"]\n",
        "my_list"
      ],
      "metadata": {
        "colab": {
          "base_uri": "https://localhost:8080/"
        },
        "id": "F9udVIYvcNkt",
        "outputId": "70dd9adc-b1c0-45eb-f96a-6d2a45638256"
      },
      "execution_count": null,
      "outputs": [
        {
          "output_type": "execute_result",
          "data": {
            "text/plain": [
              "['A', 1, 10, 'B']"
            ]
          },
          "metadata": {},
          "execution_count": 68
        }
      ]
    },
    {
      "cell_type": "code",
      "source": [
        "len(my_list)"
      ],
      "metadata": {
        "colab": {
          "base_uri": "https://localhost:8080/"
        },
        "id": "O4Bx2HXZcTXi",
        "outputId": "d9f74203-a03d-4e8b-bdb2-36e588bc1c36"
      },
      "execution_count": null,
      "outputs": [
        {
          "output_type": "execute_result",
          "data": {
            "text/plain": [
              "4"
            ]
          },
          "metadata": {},
          "execution_count": 69
        }
      ]
    },
    {
      "cell_type": "markdown",
      "source": [
        "## Be careful, Python wants to help you"
      ],
      "metadata": {
        "id": "-mdm_D8Pbllr"
      }
    },
    {
      "cell_type": "code",
      "source": [
        "10 + True"
      ],
      "metadata": {
        "colab": {
          "base_uri": "https://localhost:8080/"
        },
        "id": "umS3c00cbXvn",
        "outputId": "f86e3092-140a-4268-93ee-8309e327f787"
      },
      "execution_count": null,
      "outputs": [
        {
          "output_type": "execute_result",
          "data": {
            "text/plain": [
              "11"
            ]
          },
          "metadata": {},
          "execution_count": 62
        }
      ]
    },
    {
      "cell_type": "markdown",
      "source": [
        "## Line 6\n",
        "\n",
        "The if statement"
      ],
      "metadata": {
        "id": "goO7A4uidhvl"
      }
    },
    {
      "cell_type": "code",
      "source": [
        "age = 56"
      ],
      "metadata": {
        "id": "a3o_SLT-eKFR"
      },
      "execution_count": null,
      "outputs": []
    },
    {
      "cell_type": "code",
      "source": [
        "1 == 10"
      ],
      "metadata": {
        "colab": {
          "base_uri": "https://localhost:8080/"
        },
        "id": "mUBz6qHleF5c",
        "outputId": "50844184-5cc3-45c1-93c6-0210fc29ab75"
      },
      "execution_count": null,
      "outputs": [
        {
          "output_type": "execute_result",
          "data": {
            "text/plain": [
              "False"
            ]
          },
          "metadata": {},
          "execution_count": 77
        }
      ]
    },
    {
      "cell_type": "code",
      "source": [
        "if (age > 60) & (age < 100):\n",
        "  print(\"You are older than 60\")\n",
        "else:\n",
        "  print(\"You are young !\")"
      ],
      "metadata": {
        "colab": {
          "base_uri": "https://localhost:8080/"
        },
        "id": "A2WZNZRVdjqe",
        "outputId": "ac7c7ee3-54b1-4ba1-93e6-cec6e4769da2"
      },
      "execution_count": null,
      "outputs": [
        {
          "output_type": "stream",
          "name": "stdout",
          "text": [
            "You are young !\n"
          ]
        }
      ]
    },
    {
      "cell_type": "code",
      "source": [],
      "metadata": {
        "id": "OpM6zpb0bptj"
      },
      "execution_count": null,
      "outputs": []
    }
  ]
}