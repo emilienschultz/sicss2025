{
 "cells": [
  {
   "cell_type": "markdown",
   "id": "0fbae9e4",
   "metadata": {},
   "source": [
    "## Prepare"
   ]
  },
  {
   "cell_type": "code",
   "execution_count": null,
   "id": "53241a91-e7b4-4ab1-be5d-e722430a1378",
   "metadata": {},
   "outputs": [],
   "source": [
    "# %pip install -r requirements.txt"
   ]
  },
  {
   "cell_type": "code",
   "execution_count": null,
   "id": "dd38cee6-2387-43cd-b7b3-073f430117de",
   "metadata": {},
   "outputs": [],
   "source": [
    "import pandas as pd\n",
    "import plotly.express as px"
   ]
  },
  {
   "cell_type": "markdown",
   "id": "8516decb-cf8c-4151-af1f-9f6529ff0903",
   "metadata": {},
   "source": [
    "Open Alex data with *computational social science*"
   ]
  },
  {
   "cell_type": "code",
   "execution_count": null,
   "id": "5dc8a035-e78c-4141-9c7a-5e102bdab6e6",
   "metadata": {
    "tags": []
   },
   "outputs": [],
   "source": [
    "# charger les données\n",
    "df = pd.read_csv(\"./data/CSS_openalex.csv\")\n",
    "df.head()"
   ]
  },
  {
   "cell_type": "markdown",
   "id": "ac1d36f8-ffc3-46d2-bae6-7fe76c36df02",
   "metadata": {},
   "source": [
    "Shaping data"
   ]
  },
  {
   "cell_type": "code",
   "execution_count": null,
   "id": "b01e8bcf",
   "metadata": {},
   "outputs": [],
   "source": [
    "list(df.columns)"
   ]
  },
  {
   "cell_type": "code",
   "execution_count": null,
   "id": "ac8df451",
   "metadata": {},
   "outputs": [],
   "source": [
    "df = df[df[\"authorships.author.display_name\"].notna()]\n",
    "df[\"publication_date\"] = pd.to_datetime(df[\"publication_date\"])\n",
    "df[\"nb_authors\"] = df[\"authorships.author.display_name\"].apply(lambda x: len(x.split(\"|\")))\n",
    "df[\"language_english\"] = df[\"language\"] == \"en\"\n",
    "df[\"publication_year\"] = df[\"publication_year\"].apply(int)"
   ]
  },
  {
   "cell_type": "markdown",
   "id": "8d34bcd8",
   "metadata": {},
   "source": [
    "## Analyze"
   ]
  },
  {
   "cell_type": "code",
   "execution_count": null,
   "id": "4fe11522",
   "metadata": {},
   "outputs": [],
   "source": [
    "df[\"language_english\"].value_counts(normalize=True)"
   ]
  },
  {
   "cell_type": "code",
   "execution_count": null,
   "id": "fa7247b3",
   "metadata": {},
   "outputs": [],
   "source": [
    "# Publications les plus citées\n",
    "top_citations = (\n",
    "    df[[\"title\", \"publication_year\", \"type\", \"cited_by_count\"]]\n",
    "    .sort_values(by=\"cited_by_count\", ascending=False)\n",
    "    .head(10)\n",
    ")"
   ]
  },
  {
   "cell_type": "markdown",
   "id": "d7b10059",
   "metadata": {},
   "source": [
    "##  Vizualize"
   ]
  },
  {
   "cell_type": "markdown",
   "id": "153e5996",
   "metadata": {},
   "source": [
    "With plotly"
   ]
  },
  {
   "cell_type": "code",
   "execution_count": null,
   "id": "b60e3058",
   "metadata": {},
   "outputs": [],
   "source": [
    "# regrouper par année et compter le nombre de publi\n",
    "fig = px.bar(df.resample(\"YS\", on=\"publication_date\").size())\n",
    "\n",
    "# Afficher le graphique\n",
    "fig.show()"
   ]
  },
  {
   "cell_type": "markdown",
   "id": "3cbfe099",
   "metadata": {},
   "source": [
    "With seaborn"
   ]
  },
  {
   "cell_type": "code",
   "execution_count": null,
   "id": "51897960",
   "metadata": {},
   "outputs": [],
   "source": [
    "import seaborn as sns\n",
    "import matplotlib.pyplot as plt\n",
    "\n",
    "table = df[df[\"publication_year\"]>=2000][\"publication_year\"].value_counts().reset_index()\n",
    "fig, ax = plt.subplots(figsize=(10, 6))\n",
    "sns.regplot(x='publication_year', \n",
    "            y='count', \n",
    "            data=table, \n",
    "            scatter_kws={'alpha':0.5}, \n",
    "            line_kws={'color': 'red'},\n",
    "            ax=ax)\n",
    "plt.title(\"Évolution temporelle avec droite de régression\")\n",
    "plt.xlabel(\"Date\")\n",
    "plt.ylabel(\"Valeur\")\n",
    "plt.tight_layout()\n",
    "plt.show()"
   ]
  },
  {
   "cell_type": "markdown",
   "id": "06bee661",
   "metadata": {},
   "source": [
    "## Modelize"
   ]
  },
  {
   "cell_type": "code",
   "execution_count": null,
   "id": "8a5c8a67",
   "metadata": {},
   "outputs": [],
   "source": [
    "from sklearn.linear_model import LinearRegression\n",
    "\n",
    "model = LinearRegression()\n",
    "model.fit(\n",
    "    df[[\"publication_year\", \"language_english\", \"nb_authors\"]].values,\n",
    "    df[\"cited_by_count\"].values,\n",
    ")\n",
    "model.coef_\n"
   ]
  },
  {
   "cell_type": "code",
   "execution_count": null,
   "id": "d1b75519",
   "metadata": {},
   "outputs": [],
   "source": [
    "model.predict([[2003, True, 2]])"
   ]
  },
  {
   "cell_type": "markdown",
   "id": "f18369ff",
   "metadata": {},
   "source": [
    "- Use a Logistic Regression\n",
    "- Train/test..."
   ]
  },
  {
   "cell_type": "markdown",
   "id": "f234fa82",
   "metadata": {},
   "source": []
  }
 ],
 "metadata": {
  "kernelspec": {
   "display_name": "base",
   "language": "python",
   "name": "python3"
  },
  "language_info": {
   "codemirror_mode": {
    "name": "ipython",
    "version": 3
   },
   "file_extension": ".py",
   "mimetype": "text/x-python",
   "name": "python",
   "nbconvert_exporter": "python",
   "pygments_lexer": "ipython3",
   "version": "3.11.7"
  }
 },
 "nbformat": 4,
 "nbformat_minor": 5
}
