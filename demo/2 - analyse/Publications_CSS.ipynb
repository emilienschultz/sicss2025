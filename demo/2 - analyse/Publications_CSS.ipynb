{
 "cells": [
  {
   "cell_type": "markdown",
   "id": "0fbae9e4",
   "metadata": {},
   "source": [
    "# Préparation"
   ]
  },
  {
   "cell_type": "code",
   "execution_count": null,
   "id": "53241a91-e7b4-4ab1-be5d-e722430a1378",
   "metadata": {},
   "outputs": [],
   "source": [
    "# %pip install -r requirements.txt"
   ]
  },
  {
   "cell_type": "code",
   "execution_count": 3,
   "id": "dd38cee6-2387-43cd-b7b3-073f430117de",
   "metadata": {},
   "outputs": [],
   "source": [
    "import pandas as pd\n",
    "import plotly.express as px"
   ]
  },
  {
   "cell_type": "markdown",
   "id": "8516decb-cf8c-4151-af1f-9f6529ff0903",
   "metadata": {},
   "source": [
    "Open Alex data with *computational social science*"
   ]
  },
  {
   "cell_type": "code",
   "execution_count": 4,
   "id": "5dc8a035-e78c-4141-9c7a-5e102bdab6e6",
   "metadata": {
    "tags": []
   },
   "outputs": [
    {
     "data": {
      "text/html": [
       "<div>\n",
       "<style scoped>\n",
       "    .dataframe tbody tr th:only-of-type {\n",
       "        vertical-align: middle;\n",
       "    }\n",
       "\n",
       "    .dataframe tbody tr th {\n",
       "        vertical-align: top;\n",
       "    }\n",
       "\n",
       "    .dataframe thead th {\n",
       "        text-align: right;\n",
       "    }\n",
       "</style>\n",
       "<table border=\"1\" class=\"dataframe\">\n",
       "  <thead>\n",
       "    <tr style=\"text-align: right;\">\n",
       "      <th></th>\n",
       "      <th>id</th>\n",
       "      <th>doi</th>\n",
       "      <th>title</th>\n",
       "      <th>display_name</th>\n",
       "      <th>relevance_score</th>\n",
       "      <th>publication_year</th>\n",
       "      <th>publication_date</th>\n",
       "      <th>language</th>\n",
       "      <th>type</th>\n",
       "      <th>type_crossref</th>\n",
       "      <th>...</th>\n",
       "      <th>locations.source.type</th>\n",
       "      <th>locations.source</th>\n",
       "      <th>sustainable_development_goals.id</th>\n",
       "      <th>sustainable_development_goals.display_name</th>\n",
       "      <th>sustainable_development_goals.score</th>\n",
       "      <th>grants.funder</th>\n",
       "      <th>grants.funder_display_name</th>\n",
       "      <th>grants.award_id</th>\n",
       "      <th>counts_by_year.year</th>\n",
       "      <th>counts_by_year.cited_by_count</th>\n",
       "    </tr>\n",
       "  </thead>\n",
       "  <tbody>\n",
       "    <tr>\n",
       "      <th>0</th>\n",
       "      <td>https://openalex.org/W2159397589</td>\n",
       "      <td>https://doi.org/10.1126/science.1167742</td>\n",
       "      <td>Computational Social Science</td>\n",
       "      <td>Computational Social Science</td>\n",
       "      <td>1318.19960</td>\n",
       "      <td>2009</td>\n",
       "      <td>2009-02-06</td>\n",
       "      <td>en</td>\n",
       "      <td>article</td>\n",
       "      <td>journal-article</td>\n",
       "      <td>...</td>\n",
       "      <td>journal|repository|repository|repository|repos...</td>\n",
       "      <td>nan|nan|nan|nan|nan</td>\n",
       "      <td>https://metadata.un.org/sdg/10</td>\n",
       "      <td>Reduced inequalities</td>\n",
       "      <td>0.45</td>\n",
       "      <td>NaN</td>\n",
       "      <td>NaN</td>\n",
       "      <td>NaN</td>\n",
       "      <td>2025|2024|2023|2022|2021|2020|2019|2018|2017|2...</td>\n",
       "      <td>41|114|168|146|219|273|254|250|257|220|277|267...</td>\n",
       "    </tr>\n",
       "    <tr>\n",
       "      <th>1</th>\n",
       "      <td>https://openalex.org/W2070907364</td>\n",
       "      <td>https://doi.org/10.1140/epjst/e2012-01697-8</td>\n",
       "      <td>Manifesto of computational social science</td>\n",
       "      <td>Manifesto of computational social science</td>\n",
       "      <td>488.98035</td>\n",
       "      <td>2012</td>\n",
       "      <td>2012-11-01</td>\n",
       "      <td>en</td>\n",
       "      <td>article</td>\n",
       "      <td>journal-article</td>\n",
       "      <td>...</td>\n",
       "      <td>journal|nan|repository|repository|repository|r...</td>\n",
       "      <td>nan|nan|nan|nan|nan|nan|nan|nan|nan|nan|nan|nan</td>\n",
       "      <td>https://metadata.un.org/sdg/3</td>\n",
       "      <td>Good health and well-being</td>\n",
       "      <td>0.47</td>\n",
       "      <td>NaN</td>\n",
       "      <td>NaN</td>\n",
       "      <td>NaN</td>\n",
       "      <td>2025|2024|2023|2022|2021|2020|2019|2018|2017|2...</td>\n",
       "      <td>4|22|41|35|47|33|33|38|24|32|36|30|19|4</td>\n",
       "    </tr>\n",
       "    <tr>\n",
       "      <th>2</th>\n",
       "      <td>https://openalex.org/W3081158114</td>\n",
       "      <td>https://doi.org/10.1126/science.aaz8170</td>\n",
       "      <td>Computational social science: Obstacles and op...</td>\n",
       "      <td>Computational social science: Obstacles and op...</td>\n",
       "      <td>389.95410</td>\n",
       "      <td>2020</td>\n",
       "      <td>2020-08-28</td>\n",
       "      <td>en</td>\n",
       "      <td>article</td>\n",
       "      <td>journal-article</td>\n",
       "      <td>...</td>\n",
       "      <td>journal|repository</td>\n",
       "      <td>nan|nan</td>\n",
       "      <td>NaN</td>\n",
       "      <td>NaN</td>\n",
       "      <td>NaN</td>\n",
       "      <td>NaN</td>\n",
       "      <td>NaN</td>\n",
       "      <td>NaN</td>\n",
       "      <td>2025|2024|2023|2022|2021|2020|2019</td>\n",
       "      <td>20|69|96|79|64|9|1</td>\n",
       "    </tr>\n",
       "    <tr>\n",
       "      <th>3</th>\n",
       "      <td>https://openalex.org/W3022499311</td>\n",
       "      <td>https://doi.org/10.1146/annurev-soc-121919-054621</td>\n",
       "      <td>Computational Social Science and Sociology</td>\n",
       "      <td>Computational Social Science and Sociology</td>\n",
       "      <td>365.42535</td>\n",
       "      <td>2020</td>\n",
       "      <td>2020-04-28</td>\n",
       "      <td>en</td>\n",
       "      <td>article</td>\n",
       "      <td>journal-article</td>\n",
       "      <td>...</td>\n",
       "      <td>journal|repository|repository</td>\n",
       "      <td>nan|nan|nan</td>\n",
       "      <td>https://metadata.un.org/sdg/10</td>\n",
       "      <td>Reduced inequalities</td>\n",
       "      <td>0.41</td>\n",
       "      <td>NaN</td>\n",
       "      <td>NaN</td>\n",
       "      <td>NaN</td>\n",
       "      <td>2025|2024|2023|2022|2021|2020</td>\n",
       "      <td>17|51|65|56|34|9</td>\n",
       "    </tr>\n",
       "    <tr>\n",
       "      <th>4</th>\n",
       "      <td>https://openalex.org/W3174174150</td>\n",
       "      <td>https://doi.org/10.1038/s41586-021-03659-0</td>\n",
       "      <td>Integrating explanation and prediction in comp...</td>\n",
       "      <td>Integrating explanation and prediction in comp...</td>\n",
       "      <td>339.59260</td>\n",
       "      <td>2021</td>\n",
       "      <td>2021-06-30</td>\n",
       "      <td>en</td>\n",
       "      <td>article</td>\n",
       "      <td>journal-article</td>\n",
       "      <td>...</td>\n",
       "      <td>journal</td>\n",
       "      <td>NaN</td>\n",
       "      <td>NaN</td>\n",
       "      <td>NaN</td>\n",
       "      <td>NaN</td>\n",
       "      <td>NaN</td>\n",
       "      <td>NaN</td>\n",
       "      <td>NaN</td>\n",
       "      <td>2025|2024|2023|2022|2021|2020|2019</td>\n",
       "      <td>25|67|89|70|27|1|1</td>\n",
       "    </tr>\n",
       "  </tbody>\n",
       "</table>\n",
       "<p>5 rows × 182 columns</p>\n",
       "</div>"
      ],
      "text/plain": [
       "                                 id  \\\n",
       "0  https://openalex.org/W2159397589   \n",
       "1  https://openalex.org/W2070907364   \n",
       "2  https://openalex.org/W3081158114   \n",
       "3  https://openalex.org/W3022499311   \n",
       "4  https://openalex.org/W3174174150   \n",
       "\n",
       "                                                 doi  \\\n",
       "0            https://doi.org/10.1126/science.1167742   \n",
       "1        https://doi.org/10.1140/epjst/e2012-01697-8   \n",
       "2            https://doi.org/10.1126/science.aaz8170   \n",
       "3  https://doi.org/10.1146/annurev-soc-121919-054621   \n",
       "4         https://doi.org/10.1038/s41586-021-03659-0   \n",
       "\n",
       "                                               title  \\\n",
       "0                       Computational Social Science   \n",
       "1          Manifesto of computational social science   \n",
       "2  Computational social science: Obstacles and op...   \n",
       "3         Computational Social Science and Sociology   \n",
       "4  Integrating explanation and prediction in comp...   \n",
       "\n",
       "                                        display_name  relevance_score  \\\n",
       "0                       Computational Social Science       1318.19960   \n",
       "1          Manifesto of computational social science        488.98035   \n",
       "2  Computational social science: Obstacles and op...        389.95410   \n",
       "3         Computational Social Science and Sociology        365.42535   \n",
       "4  Integrating explanation and prediction in comp...        339.59260   \n",
       "\n",
       "   publication_year publication_date language     type    type_crossref  ...  \\\n",
       "0              2009       2009-02-06       en  article  journal-article  ...   \n",
       "1              2012       2012-11-01       en  article  journal-article  ...   \n",
       "2              2020       2020-08-28       en  article  journal-article  ...   \n",
       "3              2020       2020-04-28       en  article  journal-article  ...   \n",
       "4              2021       2021-06-30       en  article  journal-article  ...   \n",
       "\n",
       "                               locations.source.type  \\\n",
       "0  journal|repository|repository|repository|repos...   \n",
       "1  journal|nan|repository|repository|repository|r...   \n",
       "2                                 journal|repository   \n",
       "3                      journal|repository|repository   \n",
       "4                                            journal   \n",
       "\n",
       "                                  locations.source  \\\n",
       "0                              nan|nan|nan|nan|nan   \n",
       "1  nan|nan|nan|nan|nan|nan|nan|nan|nan|nan|nan|nan   \n",
       "2                                          nan|nan   \n",
       "3                                      nan|nan|nan   \n",
       "4                                              NaN   \n",
       "\n",
       "   sustainable_development_goals.id  \\\n",
       "0    https://metadata.un.org/sdg/10   \n",
       "1     https://metadata.un.org/sdg/3   \n",
       "2                               NaN   \n",
       "3    https://metadata.un.org/sdg/10   \n",
       "4                               NaN   \n",
       "\n",
       "  sustainable_development_goals.display_name  \\\n",
       "0                       Reduced inequalities   \n",
       "1                 Good health and well-being   \n",
       "2                                        NaN   \n",
       "3                       Reduced inequalities   \n",
       "4                                        NaN   \n",
       "\n",
       "  sustainable_development_goals.score  grants.funder  \\\n",
       "0                                0.45            NaN   \n",
       "1                                0.47            NaN   \n",
       "2                                 NaN            NaN   \n",
       "3                                0.41            NaN   \n",
       "4                                 NaN            NaN   \n",
       "\n",
       "   grants.funder_display_name  grants.award_id  \\\n",
       "0                         NaN              NaN   \n",
       "1                         NaN              NaN   \n",
       "2                         NaN              NaN   \n",
       "3                         NaN              NaN   \n",
       "4                         NaN              NaN   \n",
       "\n",
       "                                 counts_by_year.year  \\\n",
       "0  2025|2024|2023|2022|2021|2020|2019|2018|2017|2...   \n",
       "1  2025|2024|2023|2022|2021|2020|2019|2018|2017|2...   \n",
       "2                 2025|2024|2023|2022|2021|2020|2019   \n",
       "3                      2025|2024|2023|2022|2021|2020   \n",
       "4                 2025|2024|2023|2022|2021|2020|2019   \n",
       "\n",
       "                       counts_by_year.cited_by_count  \n",
       "0  41|114|168|146|219|273|254|250|257|220|277|267...  \n",
       "1            4|22|41|35|47|33|33|38|24|32|36|30|19|4  \n",
       "2                                 20|69|96|79|64|9|1  \n",
       "3                                   17|51|65|56|34|9  \n",
       "4                                 25|67|89|70|27|1|1  \n",
       "\n",
       "[5 rows x 182 columns]"
      ]
     },
     "execution_count": 4,
     "metadata": {},
     "output_type": "execute_result"
    }
   ],
   "source": [
    "# charger les données\n",
    "df = pd.read_csv(\"./data/CSS_openalex.csv\")\n",
    "df.head()"
   ]
  },
  {
   "cell_type": "markdown",
   "id": "ac1d36f8-ffc3-46d2-bae6-7fe76c36df02",
   "metadata": {},
   "source": [
    "Shaping data"
   ]
  },
  {
   "cell_type": "code",
   "execution_count": 5,
   "id": "ac8df451",
   "metadata": {},
   "outputs": [],
   "source": [
    "# Passer la date au bon format\n",
    "df[\"publication_date\"] = pd.to_datetime(df[\"publication_date\"])"
   ]
  },
  {
   "cell_type": "markdown",
   "id": "d7b10059",
   "metadata": {},
   "source": [
    "#  Evolutions"
   ]
  },
  {
   "cell_type": "code",
   "execution_count": 6,
   "id": "b60e3058",
   "metadata": {},
   "outputs": [
    {
     "data": {
      "application/vnd.plotly.v1+json": {
       "config": {
        "plotlyServerURL": "https://plot.ly"
       },
       "data": [
        {
         "hovertemplate": "variable=0<br>publication_date=%{x}<br>value=%{y}<extra></extra>",
         "legendgroup": "0",
         "marker": {
          "color": "#636efa",
          "pattern": {
           "shape": ""
          }
         },
         "name": "0",
         "orientation": "v",
         "showlegend": true,
         "textposition": "auto",
         "type": "bar",
         "x": [
          "1969-01-01T00:00:00.000000000",
          "1970-01-01T00:00:00.000000000",
          "1971-01-01T00:00:00.000000000",
          "1972-01-01T00:00:00.000000000",
          "1973-01-01T00:00:00.000000000",
          "1974-01-01T00:00:00.000000000",
          "1975-01-01T00:00:00.000000000",
          "1976-01-01T00:00:00.000000000",
          "1977-01-01T00:00:00.000000000",
          "1978-01-01T00:00:00.000000000",
          "1979-01-01T00:00:00.000000000",
          "1980-01-01T00:00:00.000000000",
          "1981-01-01T00:00:00.000000000",
          "1982-01-01T00:00:00.000000000",
          "1983-01-01T00:00:00.000000000",
          "1984-01-01T00:00:00.000000000",
          "1985-01-01T00:00:00.000000000",
          "1986-01-01T00:00:00.000000000",
          "1987-01-01T00:00:00.000000000",
          "1988-01-01T00:00:00.000000000",
          "1989-01-01T00:00:00.000000000",
          "1990-01-01T00:00:00.000000000",
          "1991-01-01T00:00:00.000000000",
          "1992-01-01T00:00:00.000000000",
          "1993-01-01T00:00:00.000000000",
          "1994-01-01T00:00:00.000000000",
          "1995-01-01T00:00:00.000000000",
          "1996-01-01T00:00:00.000000000",
          "1997-01-01T00:00:00.000000000",
          "1998-01-01T00:00:00.000000000",
          "1999-01-01T00:00:00.000000000",
          "2000-01-01T00:00:00.000000000",
          "2001-01-01T00:00:00.000000000",
          "2002-01-01T00:00:00.000000000",
          "2003-01-01T00:00:00.000000000",
          "2004-01-01T00:00:00.000000000",
          "2005-01-01T00:00:00.000000000",
          "2006-01-01T00:00:00.000000000",
          "2007-01-01T00:00:00.000000000",
          "2008-01-01T00:00:00.000000000",
          "2009-01-01T00:00:00.000000000",
          "2010-01-01T00:00:00.000000000",
          "2011-01-01T00:00:00.000000000",
          "2012-01-01T00:00:00.000000000",
          "2013-01-01T00:00:00.000000000",
          "2014-01-01T00:00:00.000000000",
          "2015-01-01T00:00:00.000000000",
          "2016-01-01T00:00:00.000000000",
          "2017-01-01T00:00:00.000000000",
          "2018-01-01T00:00:00.000000000",
          "2019-01-01T00:00:00.000000000",
          "2020-01-01T00:00:00.000000000",
          "2021-01-01T00:00:00.000000000",
          "2022-01-01T00:00:00.000000000",
          "2023-01-01T00:00:00.000000000",
          "2024-01-01T00:00:00.000000000",
          "2025-01-01T00:00:00.000000000"
         ],
         "xaxis": "x",
         "y": {
          "bdata": "AQAAAAAAAAAAAAAAAAAAAAAAAAAAAAAAAAAAAAAAAAAAAAAAAAAAAAAAAAAAAAAAAAAAAAAAAAABAAAAAAABAAEAAQACAAMAAwAEAAQABwAHAA8AHwAXADIAQwA/AFgAZQBsAGwAcwCQAHkAnACqADYA",
          "dtype": "i2"
         },
         "yaxis": "y"
        }
       ],
       "layout": {
        "barmode": "relative",
        "legend": {
         "title": {
          "text": "variable"
         },
         "tracegroupgap": 0
        },
        "margin": {
         "t": 60
        },
        "template": {
         "data": {
          "bar": [
           {
            "error_x": {
             "color": "#2a3f5f"
            },
            "error_y": {
             "color": "#2a3f5f"
            },
            "marker": {
             "line": {
              "color": "#E5ECF6",
              "width": 0.5
             },
             "pattern": {
              "fillmode": "overlay",
              "size": 10,
              "solidity": 0.2
             }
            },
            "type": "bar"
           }
          ],
          "barpolar": [
           {
            "marker": {
             "line": {
              "color": "#E5ECF6",
              "width": 0.5
             },
             "pattern": {
              "fillmode": "overlay",
              "size": 10,
              "solidity": 0.2
             }
            },
            "type": "barpolar"
           }
          ],
          "carpet": [
           {
            "aaxis": {
             "endlinecolor": "#2a3f5f",
             "gridcolor": "white",
             "linecolor": "white",
             "minorgridcolor": "white",
             "startlinecolor": "#2a3f5f"
            },
            "baxis": {
             "endlinecolor": "#2a3f5f",
             "gridcolor": "white",
             "linecolor": "white",
             "minorgridcolor": "white",
             "startlinecolor": "#2a3f5f"
            },
            "type": "carpet"
           }
          ],
          "choropleth": [
           {
            "colorbar": {
             "outlinewidth": 0,
             "ticks": ""
            },
            "type": "choropleth"
           }
          ],
          "contour": [
           {
            "colorbar": {
             "outlinewidth": 0,
             "ticks": ""
            },
            "colorscale": [
             [
              0,
              "#0d0887"
             ],
             [
              0.1111111111111111,
              "#46039f"
             ],
             [
              0.2222222222222222,
              "#7201a8"
             ],
             [
              0.3333333333333333,
              "#9c179e"
             ],
             [
              0.4444444444444444,
              "#bd3786"
             ],
             [
              0.5555555555555556,
              "#d8576b"
             ],
             [
              0.6666666666666666,
              "#ed7953"
             ],
             [
              0.7777777777777778,
              "#fb9f3a"
             ],
             [
              0.8888888888888888,
              "#fdca26"
             ],
             [
              1,
              "#f0f921"
             ]
            ],
            "type": "contour"
           }
          ],
          "contourcarpet": [
           {
            "colorbar": {
             "outlinewidth": 0,
             "ticks": ""
            },
            "type": "contourcarpet"
           }
          ],
          "heatmap": [
           {
            "colorbar": {
             "outlinewidth": 0,
             "ticks": ""
            },
            "colorscale": [
             [
              0,
              "#0d0887"
             ],
             [
              0.1111111111111111,
              "#46039f"
             ],
             [
              0.2222222222222222,
              "#7201a8"
             ],
             [
              0.3333333333333333,
              "#9c179e"
             ],
             [
              0.4444444444444444,
              "#bd3786"
             ],
             [
              0.5555555555555556,
              "#d8576b"
             ],
             [
              0.6666666666666666,
              "#ed7953"
             ],
             [
              0.7777777777777778,
              "#fb9f3a"
             ],
             [
              0.8888888888888888,
              "#fdca26"
             ],
             [
              1,
              "#f0f921"
             ]
            ],
            "type": "heatmap"
           }
          ],
          "histogram": [
           {
            "marker": {
             "pattern": {
              "fillmode": "overlay",
              "size": 10,
              "solidity": 0.2
             }
            },
            "type": "histogram"
           }
          ],
          "histogram2d": [
           {
            "colorbar": {
             "outlinewidth": 0,
             "ticks": ""
            },
            "colorscale": [
             [
              0,
              "#0d0887"
             ],
             [
              0.1111111111111111,
              "#46039f"
             ],
             [
              0.2222222222222222,
              "#7201a8"
             ],
             [
              0.3333333333333333,
              "#9c179e"
             ],
             [
              0.4444444444444444,
              "#bd3786"
             ],
             [
              0.5555555555555556,
              "#d8576b"
             ],
             [
              0.6666666666666666,
              "#ed7953"
             ],
             [
              0.7777777777777778,
              "#fb9f3a"
             ],
             [
              0.8888888888888888,
              "#fdca26"
             ],
             [
              1,
              "#f0f921"
             ]
            ],
            "type": "histogram2d"
           }
          ],
          "histogram2dcontour": [
           {
            "colorbar": {
             "outlinewidth": 0,
             "ticks": ""
            },
            "colorscale": [
             [
              0,
              "#0d0887"
             ],
             [
              0.1111111111111111,
              "#46039f"
             ],
             [
              0.2222222222222222,
              "#7201a8"
             ],
             [
              0.3333333333333333,
              "#9c179e"
             ],
             [
              0.4444444444444444,
              "#bd3786"
             ],
             [
              0.5555555555555556,
              "#d8576b"
             ],
             [
              0.6666666666666666,
              "#ed7953"
             ],
             [
              0.7777777777777778,
              "#fb9f3a"
             ],
             [
              0.8888888888888888,
              "#fdca26"
             ],
             [
              1,
              "#f0f921"
             ]
            ],
            "type": "histogram2dcontour"
           }
          ],
          "mesh3d": [
           {
            "colorbar": {
             "outlinewidth": 0,
             "ticks": ""
            },
            "type": "mesh3d"
           }
          ],
          "parcoords": [
           {
            "line": {
             "colorbar": {
              "outlinewidth": 0,
              "ticks": ""
             }
            },
            "type": "parcoords"
           }
          ],
          "pie": [
           {
            "automargin": true,
            "type": "pie"
           }
          ],
          "scatter": [
           {
            "fillpattern": {
             "fillmode": "overlay",
             "size": 10,
             "solidity": 0.2
            },
            "type": "scatter"
           }
          ],
          "scatter3d": [
           {
            "line": {
             "colorbar": {
              "outlinewidth": 0,
              "ticks": ""
             }
            },
            "marker": {
             "colorbar": {
              "outlinewidth": 0,
              "ticks": ""
             }
            },
            "type": "scatter3d"
           }
          ],
          "scattercarpet": [
           {
            "marker": {
             "colorbar": {
              "outlinewidth": 0,
              "ticks": ""
             }
            },
            "type": "scattercarpet"
           }
          ],
          "scattergeo": [
           {
            "marker": {
             "colorbar": {
              "outlinewidth": 0,
              "ticks": ""
             }
            },
            "type": "scattergeo"
           }
          ],
          "scattergl": [
           {
            "marker": {
             "colorbar": {
              "outlinewidth": 0,
              "ticks": ""
             }
            },
            "type": "scattergl"
           }
          ],
          "scattermap": [
           {
            "marker": {
             "colorbar": {
              "outlinewidth": 0,
              "ticks": ""
             }
            },
            "type": "scattermap"
           }
          ],
          "scattermapbox": [
           {
            "marker": {
             "colorbar": {
              "outlinewidth": 0,
              "ticks": ""
             }
            },
            "type": "scattermapbox"
           }
          ],
          "scatterpolar": [
           {
            "marker": {
             "colorbar": {
              "outlinewidth": 0,
              "ticks": ""
             }
            },
            "type": "scatterpolar"
           }
          ],
          "scatterpolargl": [
           {
            "marker": {
             "colorbar": {
              "outlinewidth": 0,
              "ticks": ""
             }
            },
            "type": "scatterpolargl"
           }
          ],
          "scatterternary": [
           {
            "marker": {
             "colorbar": {
              "outlinewidth": 0,
              "ticks": ""
             }
            },
            "type": "scatterternary"
           }
          ],
          "surface": [
           {
            "colorbar": {
             "outlinewidth": 0,
             "ticks": ""
            },
            "colorscale": [
             [
              0,
              "#0d0887"
             ],
             [
              0.1111111111111111,
              "#46039f"
             ],
             [
              0.2222222222222222,
              "#7201a8"
             ],
             [
              0.3333333333333333,
              "#9c179e"
             ],
             [
              0.4444444444444444,
              "#bd3786"
             ],
             [
              0.5555555555555556,
              "#d8576b"
             ],
             [
              0.6666666666666666,
              "#ed7953"
             ],
             [
              0.7777777777777778,
              "#fb9f3a"
             ],
             [
              0.8888888888888888,
              "#fdca26"
             ],
             [
              1,
              "#f0f921"
             ]
            ],
            "type": "surface"
           }
          ],
          "table": [
           {
            "cells": {
             "fill": {
              "color": "#EBF0F8"
             },
             "line": {
              "color": "white"
             }
            },
            "header": {
             "fill": {
              "color": "#C8D4E3"
             },
             "line": {
              "color": "white"
             }
            },
            "type": "table"
           }
          ]
         },
         "layout": {
          "annotationdefaults": {
           "arrowcolor": "#2a3f5f",
           "arrowhead": 0,
           "arrowwidth": 1
          },
          "autotypenumbers": "strict",
          "coloraxis": {
           "colorbar": {
            "outlinewidth": 0,
            "ticks": ""
           }
          },
          "colorscale": {
           "diverging": [
            [
             0,
             "#8e0152"
            ],
            [
             0.1,
             "#c51b7d"
            ],
            [
             0.2,
             "#de77ae"
            ],
            [
             0.3,
             "#f1b6da"
            ],
            [
             0.4,
             "#fde0ef"
            ],
            [
             0.5,
             "#f7f7f7"
            ],
            [
             0.6,
             "#e6f5d0"
            ],
            [
             0.7,
             "#b8e186"
            ],
            [
             0.8,
             "#7fbc41"
            ],
            [
             0.9,
             "#4d9221"
            ],
            [
             1,
             "#276419"
            ]
           ],
           "sequential": [
            [
             0,
             "#0d0887"
            ],
            [
             0.1111111111111111,
             "#46039f"
            ],
            [
             0.2222222222222222,
             "#7201a8"
            ],
            [
             0.3333333333333333,
             "#9c179e"
            ],
            [
             0.4444444444444444,
             "#bd3786"
            ],
            [
             0.5555555555555556,
             "#d8576b"
            ],
            [
             0.6666666666666666,
             "#ed7953"
            ],
            [
             0.7777777777777778,
             "#fb9f3a"
            ],
            [
             0.8888888888888888,
             "#fdca26"
            ],
            [
             1,
             "#f0f921"
            ]
           ],
           "sequentialminus": [
            [
             0,
             "#0d0887"
            ],
            [
             0.1111111111111111,
             "#46039f"
            ],
            [
             0.2222222222222222,
             "#7201a8"
            ],
            [
             0.3333333333333333,
             "#9c179e"
            ],
            [
             0.4444444444444444,
             "#bd3786"
            ],
            [
             0.5555555555555556,
             "#d8576b"
            ],
            [
             0.6666666666666666,
             "#ed7953"
            ],
            [
             0.7777777777777778,
             "#fb9f3a"
            ],
            [
             0.8888888888888888,
             "#fdca26"
            ],
            [
             1,
             "#f0f921"
            ]
           ]
          },
          "colorway": [
           "#636efa",
           "#EF553B",
           "#00cc96",
           "#ab63fa",
           "#FFA15A",
           "#19d3f3",
           "#FF6692",
           "#B6E880",
           "#FF97FF",
           "#FECB52"
          ],
          "font": {
           "color": "#2a3f5f"
          },
          "geo": {
           "bgcolor": "white",
           "lakecolor": "white",
           "landcolor": "#E5ECF6",
           "showlakes": true,
           "showland": true,
           "subunitcolor": "white"
          },
          "hoverlabel": {
           "align": "left"
          },
          "hovermode": "closest",
          "mapbox": {
           "style": "light"
          },
          "paper_bgcolor": "white",
          "plot_bgcolor": "#E5ECF6",
          "polar": {
           "angularaxis": {
            "gridcolor": "white",
            "linecolor": "white",
            "ticks": ""
           },
           "bgcolor": "#E5ECF6",
           "radialaxis": {
            "gridcolor": "white",
            "linecolor": "white",
            "ticks": ""
           }
          },
          "scene": {
           "xaxis": {
            "backgroundcolor": "#E5ECF6",
            "gridcolor": "white",
            "gridwidth": 2,
            "linecolor": "white",
            "showbackground": true,
            "ticks": "",
            "zerolinecolor": "white"
           },
           "yaxis": {
            "backgroundcolor": "#E5ECF6",
            "gridcolor": "white",
            "gridwidth": 2,
            "linecolor": "white",
            "showbackground": true,
            "ticks": "",
            "zerolinecolor": "white"
           },
           "zaxis": {
            "backgroundcolor": "#E5ECF6",
            "gridcolor": "white",
            "gridwidth": 2,
            "linecolor": "white",
            "showbackground": true,
            "ticks": "",
            "zerolinecolor": "white"
           }
          },
          "shapedefaults": {
           "line": {
            "color": "#2a3f5f"
           }
          },
          "ternary": {
           "aaxis": {
            "gridcolor": "white",
            "linecolor": "white",
            "ticks": ""
           },
           "baxis": {
            "gridcolor": "white",
            "linecolor": "white",
            "ticks": ""
           },
           "bgcolor": "#E5ECF6",
           "caxis": {
            "gridcolor": "white",
            "linecolor": "white",
            "ticks": ""
           }
          },
          "title": {
           "x": 0.05
          },
          "xaxis": {
           "automargin": true,
           "gridcolor": "white",
           "linecolor": "white",
           "ticks": "",
           "title": {
            "standoff": 15
           },
           "zerolinecolor": "white",
           "zerolinewidth": 2
          },
          "yaxis": {
           "automargin": true,
           "gridcolor": "white",
           "linecolor": "white",
           "ticks": "",
           "title": {
            "standoff": 15
           },
           "zerolinecolor": "white",
           "zerolinewidth": 2
          }
         }
        },
        "xaxis": {
         "anchor": "y",
         "domain": [
          0,
          1
         ],
         "title": {
          "text": "publication_date"
         }
        },
        "yaxis": {
         "anchor": "x",
         "domain": [
          0,
          1
         ],
         "title": {
          "text": "value"
         }
        }
       }
      }
     },
     "metadata": {},
     "output_type": "display_data"
    }
   ],
   "source": [
    "# regrouper par année et compter le nombre de publi\n",
    "fig = px.bar(df.resample(\"YS\", on=\"publication_date\").size())\n",
    "\n",
    "# Afficher le graphique\n",
    "fig.show()"
   ]
  },
  {
   "cell_type": "markdown",
   "id": "bb0895a6",
   "metadata": {},
   "source": [
    "# Citations"
   ]
  },
  {
   "cell_type": "code",
   "execution_count": 7,
   "id": "b22c6a35",
   "metadata": {},
   "outputs": [
    {
     "data": {
      "text/html": [
       "<div>\n",
       "<style scoped>\n",
       "    .dataframe tbody tr th:only-of-type {\n",
       "        vertical-align: middle;\n",
       "    }\n",
       "\n",
       "    .dataframe tbody tr th {\n",
       "        vertical-align: top;\n",
       "    }\n",
       "\n",
       "    .dataframe thead th {\n",
       "        text-align: right;\n",
       "    }\n",
       "</style>\n",
       "<table border=\"1\" class=\"dataframe\">\n",
       "  <thead>\n",
       "    <tr style=\"text-align: right;\">\n",
       "      <th></th>\n",
       "      <th>title</th>\n",
       "      <th>publication_year</th>\n",
       "      <th>type</th>\n",
       "      <th>cited_by_count</th>\n",
       "    </tr>\n",
       "  </thead>\n",
       "  <tbody>\n",
       "    <tr>\n",
       "      <th>118</th>\n",
       "      <td>Geometric Deep Learning: Going beyond Euclidea...</td>\n",
       "      <td>2017</td>\n",
       "      <td>article</td>\n",
       "      <td>3217</td>\n",
       "    </tr>\n",
       "    <tr>\n",
       "      <th>0</th>\n",
       "      <td>Computational Social Science</td>\n",
       "      <td>2009</td>\n",
       "      <td>article</td>\n",
       "      <td>3125</td>\n",
       "    </tr>\n",
       "    <tr>\n",
       "      <th>149</th>\n",
       "      <td>Big Data, new epistemologies and paradigm shifts</td>\n",
       "      <td>2014</td>\n",
       "      <td>article</td>\n",
       "      <td>2033</td>\n",
       "    </tr>\n",
       "    <tr>\n",
       "      <th>808</th>\n",
       "      <td>The Nucleolus of a Characteristic Function Game</td>\n",
       "      <td>1969</td>\n",
       "      <td>article</td>\n",
       "      <td>1872</td>\n",
       "    </tr>\n",
       "    <tr>\n",
       "      <th>184</th>\n",
       "      <td>Geometric Deep Learning on Graphs and Manifold...</td>\n",
       "      <td>2017</td>\n",
       "      <td>article</td>\n",
       "      <td>1786</td>\n",
       "    </tr>\n",
       "    <tr>\n",
       "      <th>175</th>\n",
       "      <td>Exposure to opposing views on social media can...</td>\n",
       "      <td>2018</td>\n",
       "      <td>article</td>\n",
       "      <td>1430</td>\n",
       "    </tr>\n",
       "    <tr>\n",
       "      <th>264</th>\n",
       "      <td>The Data Revolution: Big Data, Open Data, Data...</td>\n",
       "      <td>2014</td>\n",
       "      <td>book</td>\n",
       "      <td>1147</td>\n",
       "    </tr>\n",
       "    <tr>\n",
       "      <th>200</th>\n",
       "      <td>The World Wide Web Conference</td>\n",
       "      <td>2019</td>\n",
       "      <td>paratext</td>\n",
       "      <td>814</td>\n",
       "    </tr>\n",
       "    <tr>\n",
       "      <th>257</th>\n",
       "      <td>The SAGE Handbook of Social Media</td>\n",
       "      <td>2017</td>\n",
       "      <td>book</td>\n",
       "      <td>644</td>\n",
       "    </tr>\n",
       "    <tr>\n",
       "      <th>277</th>\n",
       "      <td>Social media analytics: a survey of techniques...</td>\n",
       "      <td>2014</td>\n",
       "      <td>article</td>\n",
       "      <td>617</td>\n",
       "    </tr>\n",
       "  </tbody>\n",
       "</table>\n",
       "</div>"
      ],
      "text/plain": [
       "                                                 title  publication_year  \\\n",
       "118  Geometric Deep Learning: Going beyond Euclidea...              2017   \n",
       "0                         Computational Social Science              2009   \n",
       "149   Big Data, new epistemologies and paradigm shifts              2014   \n",
       "808    The Nucleolus of a Characteristic Function Game              1969   \n",
       "184  Geometric Deep Learning on Graphs and Manifold...              2017   \n",
       "175  Exposure to opposing views on social media can...              2018   \n",
       "264  The Data Revolution: Big Data, Open Data, Data...              2014   \n",
       "200                      The World Wide Web Conference              2019   \n",
       "257                  The SAGE Handbook of Social Media              2017   \n",
       "277  Social media analytics: a survey of techniques...              2014   \n",
       "\n",
       "         type  cited_by_count  \n",
       "118   article            3217  \n",
       "0     article            3125  \n",
       "149   article            2033  \n",
       "808   article            1872  \n",
       "184   article            1786  \n",
       "175   article            1430  \n",
       "264      book            1147  \n",
       "200  paratext             814  \n",
       "257      book             644  \n",
       "277   article             617  "
      ]
     },
     "execution_count": 7,
     "metadata": {},
     "output_type": "execute_result"
    }
   ],
   "source": [
    "# Publications les plus citées\n",
    "top_citations = (\n",
    "    df[[\"title\", \"publication_year\", \"type\", \"cited_by_count\"]]\n",
    "    .sort_values(by=\"cited_by_count\", ascending=False)\n",
    "    .head(10)\n",
    ")\n",
    "top_citations"
   ]
  }
 ],
 "metadata": {
  "kernelspec": {
   "display_name": "base",
   "language": "python",
   "name": "python3"
  },
  "language_info": {
   "codemirror_mode": {
    "name": "ipython",
    "version": 3
   },
   "file_extension": ".py",
   "mimetype": "text/x-python",
   "name": "python",
   "nbconvert_exporter": "python",
   "pygments_lexer": "ipython3",
   "version": "3.11.7"
  }
 },
 "nbformat": 4,
 "nbformat_minor": 5
}
